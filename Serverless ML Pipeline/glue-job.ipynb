{
 "cells": [
  {
   "cell_type": "code",
   "execution_count": 1,
   "metadata": {},
   "outputs": [],
   "source": [
    "import boto3"
   ]
  },
  {
   "cell_type": "code",
   "execution_count": 9,
   "metadata": {},
   "outputs": [],
   "source": [
    "# bucket='sagemaker-pipeline-mnist-datasets' # Replace with your s3 bucket name\n",
    "# prefix = 'source/tf-mnist' # Used as part of the path in the bucket where you store data\n",
    "\n",
    "# train_prefix = 'train'\n",
    "# val_prefix = 'validation'\n",
    "\n",
    "# train_data = 's3://{}/{}/{}/'.format(bucket, project_name, train_prefix)\n",
    "# validation_data = 's3://{}/{}/{}/'.format(bucket, project_name, val_prefix)\n",
    "\n",
    "source_path = 's3://sagemaker-pipeline-mnist-datasets/source/tf-mnist/'\n",
    "output_path = 's3://sagemaker-pipeline-mnist-datasets/output/tf-mnist/'\n",
    "train_prefix = 'train'\n",
    "val_prefix = 'validation'"
   ]
  },
  {
   "cell_type": "code",
   "execution_count": null,
   "metadata": {},
   "outputs": [],
   "source": [
    "\n",
    "import sagemaker\n",
    "from sagemaker.s3 import S3Uploader\n",
    "\n",
    "session = sagemaker.Session()\n",
    "\n",
    "glue_script_location = S3Uploader.upload(local_path='./train_val_norm.py',\n",
    "                               desired_s3_uri='s3://sagemaker-pipeline-mnist-datasets/glue_script',\n",
    "                               session=session)\n",
    "\n",
    "job_name = 'train_val_norm_job'\n",
    "glue_role = 'AWS-Glue-S3-Bucket-Access'\n",
    "\n",
    "glue_client = boto3.client('glue')\n",
    "\n",
    "response = glue_client.create_job(\n",
    "    Name=job_name,\n",
    "    Description='PySpark job to normalize the features of train and validation data',\n",
    "    Role=glue_role, # you can pass your existing AWS Glue role here if you have used Glue before\n",
    "    ExecutionProperty={\n",
    "        'MaxConcurrentRuns': 2\n",
    "    },\n",
    "    Command={\n",
    "        'Name': 'glueetl',\n",
    "        'ScriptLocation': glue_script_location,\n",
    "        'PythonVersion': '3'\n",
    "    },\n",
    "    DefaultArguments={\n",
    "        '--job-language': 'python'\n",
    "    },\n",
    "    GlueVersion='1.0',\n",
    "    WorkerType='Standard',\n",
    "    NumberOfWorkers=2,\n",
    "    Timeout=60\n",
    ")"
   ]
  },
  {
   "cell_type": "code",
   "execution_count": null,
   "metadata": {},
   "outputs": [],
   "source": [
    "res = glue_client.start_job_run(\n",
    "    JobName=job_name,\n",
    "    Arguments={\n",
    "        '--SOURCE_PATH': source_path,\n",
    "        '--OUTPUT_PATH': output_path,\n",
    "        '--TRAIN_PREFIX': train_prefix + '/',\n",
    "        '--VAL_PREFIX': val_prefix + '/',\n",
    "    },\n",
    ")"
   ]
  },
  {
   "cell_type": "code",
   "execution_count": 8,
   "metadata": {},
   "outputs": [
    {
     "name": "stdout",
     "output_type": "stream",
     "text": [
      "{'JobRunId': 'jr_b424c34b712cf32ae5762e195470185c182a51cb226073c3e6931a685fec5610', 'ResponseMetadata': {'RequestId': '2f97aaad-0020-4bb5-8b99-35f113852577', 'HTTPStatusCode': 200, 'HTTPHeaders': {'date': 'Mon, 13 Apr 2020 09:34:37 GMT', 'content-type': 'application/x-amz-json-1.1', 'content-length': '82', 'connection': 'keep-alive', 'x-amzn-requestid': '2f97aaad-0020-4bb5-8b99-35f113852577'}, 'RetryAttempts': 0}}\n"
     ]
    }
   ],
   "source": [
    "print(res)"
   ]
  },
  {
   "cell_type": "code",
   "execution_count": null,
   "metadata": {},
   "outputs": [],
   "source": []
  }
 ],
 "metadata": {
  "kernelspec": {
   "display_name": "conda_python3",
   "language": "python",
   "name": "conda_python3"
  },
  "language_info": {
   "codemirror_mode": {
    "name": "ipython",
    "version": 3
   },
   "file_extension": ".py",
   "mimetype": "text/x-python",
   "name": "python",
   "nbconvert_exporter": "python",
   "pygments_lexer": "ipython3",
   "version": "3.6.5"
  }
 },
 "nbformat": 4,
 "nbformat_minor": 4
}
