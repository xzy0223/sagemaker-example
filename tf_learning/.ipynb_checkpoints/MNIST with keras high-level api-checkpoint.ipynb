{
 "cells": [
  {
   "cell_type": "code",
   "execution_count": 1,
   "metadata": {},
   "outputs": [],
   "source": [
    "import tensorflow as tf\n",
    "from tensorflow import keras\n",
    "from tensorflow.keras import datasets, layers, optimizers, metrics, Sequential"
   ]
  },
  {
   "cell_type": "code",
   "execution_count": 5,
   "metadata": {},
   "outputs": [],
   "source": [
    "(x_train, y_train), (x_val, y_val) = datasets.fashion_mnist.load_data()"
   ]
  },
  {
   "cell_type": "code",
   "execution_count": 49,
   "metadata": {},
   "outputs": [],
   "source": [
    "# 处理数据，由于在高阶api中不能在处理x和y的数据格式\n",
    "# 所以我们需要在这个函数中转换x的shape，以及对y进行one-hot\n",
    "def process(x, y):\n",
    "    x = tf.cast(x, dtype=tf.float32) / 255.\n",
    "    x = tf.reshape(x, [28*28])\n",
    "    y = tf.cast(y, dtype=tf.int32)\n",
    "    y = tf.one_hot(y, depth=10)\n",
    "    return x, y"
   ]
  },
  {
   "cell_type": "code",
   "execution_count": 50,
   "metadata": {},
   "outputs": [],
   "source": [
    "train_db = tf.data.Dataset.from_tensor_slices((x_train, y_train))\n",
    "val_db = tf.data.Dataset.from_tensor_slices((x_val, y_val))"
   ]
  },
  {
   "cell_type": "code",
   "execution_count": 51,
   "metadata": {},
   "outputs": [],
   "source": [
    "train_db = train_db.map(process).shuffle(10000).batch(128)\n",
    "val_db = val_db.map(process).shuffle(10000).batch(128)"
   ]
  },
  {
   "cell_type": "code",
   "execution_count": 52,
   "metadata": {},
   "outputs": [
    {
     "name": "stdout",
     "output_type": "stream",
     "text": [
      "Model: \"sequential_5\"\n",
      "_________________________________________________________________\n",
      "Layer (type)                 Output Shape              Param #   \n",
      "=================================================================\n",
      "dense_25 (Dense)             multiple                  401920    \n",
      "_________________________________________________________________\n",
      "dense_26 (Dense)             multiple                  131328    \n",
      "_________________________________________________________________\n",
      "dense_27 (Dense)             multiple                  32896     \n",
      "_________________________________________________________________\n",
      "dense_28 (Dense)             multiple                  8256      \n",
      "_________________________________________________________________\n",
      "dense_29 (Dense)             multiple                  650       \n",
      "=================================================================\n",
      "Total params: 575,050\n",
      "Trainable params: 575,050\n",
      "Non-trainable params: 0\n",
      "_________________________________________________________________\n"
     ]
    }
   ],
   "source": [
    "network = Sequential([\n",
    "    layers.Dense(512, activation='relu'),\n",
    "    layers.Dense(256, activation='relu'),\n",
    "    layers.Dense(128, activation='relu'),\n",
    "    layers.Dense(64, activation='relu'),\n",
    "    layers.Dense(10)\n",
    "])\n",
    "\n",
    "network.build(input_shape=(None, 28*28))\n",
    "network.summary()"
   ]
  },
  {
   "cell_type": "code",
   "execution_count": 53,
   "metadata": {},
   "outputs": [],
   "source": [
    "# Sequential这个类集成自Model类，Model类都有compile方法\n",
    "# 用于编排网络的一些属性\n",
    "# optimazer用于指定网络的优化器\n",
    "# loss用于指定损失函数\n",
    "# metrics指定训练时要统计的指标有哪些\n",
    "network.compile(optimizer=optimizers.Adam(lr=1e-2),\n",
    "               loss=tf.losses.CategoricalCrossentropy(from_logits=True),\n",
    "               metrics=['accuracy'])"
   ]
  },
  {
   "cell_type": "code",
   "execution_count": 55,
   "metadata": {},
   "outputs": [
    {
     "name": "stdout",
     "output_type": "stream",
     "text": [
      "Epoch 1/10\n",
      "469/469 [==============================] - 7s 15ms/step - loss: 0.3843 - accuracy: 0.8611 - val_loss: 0.0000e+00 - val_accuracy: 0.0000e+00\n",
      "Epoch 2/10\n",
      "469/469 [==============================] - 7s 14ms/step - loss: 0.3646 - accuracy: 0.8698 - val_loss: 0.4211 - val_accuracy: 0.8502\n",
      "Epoch 3/10\n",
      "469/469 [==============================] - 7s 14ms/step - loss: 0.3524 - accuracy: 0.8745 - val_loss: 0.4387 - val_accuracy: 0.8389\n",
      "Epoch 4/10\n",
      "469/469 [==============================] - 7s 14ms/step - loss: 0.3495 - accuracy: 0.8760 - val_loss: 0.3969 - val_accuracy: 0.8634\n",
      "Epoch 5/10\n",
      "469/469 [==============================] - 6s 14ms/step - loss: 0.3343 - accuracy: 0.8802 - val_loss: 0.4016 - val_accuracy: 0.8605\n",
      "Epoch 6/10\n",
      "469/469 [==============================] - 7s 14ms/step - loss: 0.3297 - accuracy: 0.8831 - val_loss: 0.3792 - val_accuracy: 0.8685\n",
      "Epoch 7/10\n",
      "469/469 [==============================] - 7s 14ms/step - loss: 0.3204 - accuracy: 0.8847 - val_loss: 0.3956 - val_accuracy: 0.8646\n",
      "Epoch 8/10\n",
      "469/469 [==============================] - 7s 14ms/step - loss: 0.3150 - accuracy: 0.8867 - val_loss: 0.4157 - val_accuracy: 0.8497\n",
      "Epoch 9/10\n",
      "469/469 [==============================] - 7s 14ms/step - loss: 0.3179 - accuracy: 0.8857 - val_loss: 0.4277 - val_accuracy: 0.8511\n",
      "Epoch 10/10\n",
      "469/469 [==============================] - 7s 14ms/step - loss: 0.3117 - accuracy: 0.8877 - val_loss: 0.3874 - val_accuracy: 0.8685\n"
     ]
    },
    {
     "data": {
      "text/plain": [
       "<tensorflow.python.keras.callbacks.History at 0x7f770ba7d7f0>"
      ]
     },
     "execution_count": 55,
     "metadata": {},
     "output_type": "execute_result"
    }
   ],
   "source": [
    "# 之后通过fit函数，就可以对网络进行训练\n",
    "# 参数有input，训练的epoch数，validation数据，以及每过多少个epoch进行一次validation的测试（validation_freq）\n",
    "network.fit(train_db, epochs=10, validation_data=val_db, validation_freq=1)"
   ]
  },
  {
   "cell_type": "code",
   "execution_count": 58,
   "metadata": {},
   "outputs": [
    {
     "name": "stdout",
     "output_type": "stream",
     "text": [
      "79/79 [==============================] - 1s 11ms/step - loss: 0.3873 - accuracy: 0.8685\n"
     ]
    },
    {
     "data": {
      "text/plain": [
       "[0.387256896571268, 0.8685]"
      ]
     },
     "execution_count": 58,
     "metadata": {},
     "output_type": "execute_result"
    }
   ],
   "source": [
    "# 也可以单独使用这个函数进行validation数据的测试\n",
    "network.evaluate(val_db)"
   ]
  },
  {
   "cell_type": "code",
   "execution_count": 57,
   "metadata": {},
   "outputs": [
    {
     "name": "stdout",
     "output_type": "stream",
     "text": [
      "prediction:[0 4 6 3 1 7 7 3 9 1 6 5 0 9 1 1 1 3 2 1 8 8 7 0 0 6 3 1 2 9 8 9 8 0 6 2 3\n",
      " 4 9 4 1 2 0 9 1 9 6 4 7 3 0 1 2 0 6 2 7 8 2 6 5 3 3 0 5 9 7 8 3 1 8 1 8 0\n",
      " 7 5 8 9 6 5 7 5 2 4 6 7 0 9 6 4 0 7 3 3 7 1 9 9 0 5 7 7 5 5 3 5 0 6 0 5 2\n",
      " 4 2 3 2 8 8 4 7 3 7 5 6 4 5 2 7 9]\n"
     ]
    }
   ],
   "source": [
    "val_iter = iter(val_db)\n",
    "sample = next(val_iter)\n",
    "\n",
    "# 使用predict函数直接进行预测，没什么大用\n",
    "pred = network.predict(sample[0])\n",
    "\n",
    "pred = tf.argmax(pred, axis=1)\n",
    "\n",
    "print('prediction:{}'.format(pred))"
   ]
  },
  {
   "cell_type": "code",
   "execution_count": null,
   "metadata": {},
   "outputs": [],
   "source": []
  }
 ],
 "metadata": {
  "kernelspec": {
   "display_name": "Python 3",
   "language": "python",
   "name": "python3"
  },
  "language_info": {
   "codemirror_mode": {
    "name": "ipython",
    "version": 3
   },
   "file_extension": ".py",
   "mimetype": "text/x-python",
   "name": "python",
   "nbconvert_exporter": "python",
   "pygments_lexer": "ipython3",
   "version": "3.7.3"
  }
 },
 "nbformat": 4,
 "nbformat_minor": 2
}
