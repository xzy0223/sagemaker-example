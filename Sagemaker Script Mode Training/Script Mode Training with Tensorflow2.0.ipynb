{
 "cells": [
  {
   "cell_type": "markdown",
   "metadata": {},
   "source": [
    "# 在Sagemaker上训练Tensorflow模型"
   ]
  },
  {
   "cell_type": "markdown",
   "metadata": {},
   "source": [
    "这个demo的目的是告诉大家，如何在sagemaker使用script模式训练tensorflow模型   "
   ]
  },
  {
   "cell_type": "markdown",
   "metadata": {},
   "source": [
    "### 1、数据准备"
   ]
  },
  {
   "cell_type": "markdown",
   "metadata": {},
   "source": [
    "首先我们先准备训练数据，这个例子中我们使用最简单MNIST数据集来进行训练\n",
    "\n",
    "我们首先下载MNIST数据集，这个数据集文件中已经对训练数据，验证数据和测试数据进行了拆分\n",
    "\n",
    "返回的数据集是一个元组（feature，label），feature和label都是numpy array"
   ]
  },
  {
   "cell_type": "code",
   "execution_count": 11,
   "metadata": {},
   "outputs": [
    {
     "name": "stdout",
     "output_type": "stream",
     "text": [
      "train set features' shape is (50000, 784), train set labels' shape is (50000,)\n"
     ]
    }
   ],
   "source": [
    "import pickle, gzip, urllib.request, json\n",
    "import numpy as np\n",
    "\n",
    "# Load the dataset\n",
    "urllib.request.urlretrieve(\"http://deeplearning.net/data/mnist/mnist.pkl.gz\", \"mnist.pkl.gz\")\n",
    "with gzip.open('mnist.pkl.gz', 'rb') as f:\n",
    "    train_set, valid_set, test_set = pickle.load(f, encoding='latin1')\n",
    "\n",
    "# 验证数据的shape\n",
    "print('train set features\\' shape is {}, train set labels\\' shape is {}'.format(train_set[0].shape,train_set[1].shape))"
   ]
  },
  {
   "cell_type": "markdown",
   "metadata": {},
   "source": [
    "然后通过matplotlib展示下数据"
   ]
  },
  {
   "cell_type": "code",
   "execution_count": 12,
   "metadata": {},
   "outputs": [
    {
     "name": "stdout",
     "output_type": "stream",
     "text": [
      "This is a 5\n"
     ]
    },
    {
     "data": {
      "image/png": "[encoded data removed]",
      "text/plain": [
       "<Figure size 144x720 with 1 Axes>"
      ]
     },
     "metadata": {},
     "output_type": "display_data"
    },
    {
     "name": "stdout",
     "output_type": "stream",
     "text": [
      "This is a 0\n"
     ]
    },
    {
     "data": {
      "image/png": "[encoded data removed]",
      "text/plain": [
       "<Figure size 144x720 with 1 Axes>"
      ]
     },
     "metadata": {},
     "output_type": "display_data"
    },
    {
     "name": "stdout",
     "output_type": "stream",
     "text": [
      "This is a 4\n"
     ]
    },
    {
     "data": {
      "image/png": "[encoded data removed]",
      "text/plain": [
       "<Figure size 144x720 with 1 Axes>"
      ]
     },
     "metadata": {},
     "output_type": "display_data"
    },
    {
     "name": "stdout",
     "output_type": "stream",
     "text": [
      "This is a 1\n"
     ]
    },
    {
     "data": {
      "image/png": "[encoded data removed]",
      "text/plain": [
       "<Figure size 144x720 with 1 Axes>"
      ]
     },
     "metadata": {},
     "output_type": "display_data"
    },
    {
     "name": "stdout",
     "output_type": "stream",
     "text": [
      "This is a 9\n"
     ]
    },
    {
     "data": {
      "image/png": "[encoded data removed]",
      "text/plain": [
       "<Figure size 144x720 with 1 Axes>"
      ]
     },
     "metadata": {},
     "output_type": "display_data"
    },
    {
     "name": "stdout",
     "output_type": "stream",
     "text": [
      "This is a 2\n"
     ]
    },
    {
     "data": {
      "image/png": "[encoded data removed]",
      "text/plain": [
       "<Figure size 144x720 with 1 Axes>"
      ]
     },
     "metadata": {},
     "output_type": "display_data"
    },
    {
     "name": "stdout",
     "output_type": "stream",
     "text": [
      "This is a 1\n"
     ]
    },
    {
     "data": {
      "image/png": "[encoded data removed]",
      "text/plain": [
       "<Figure size 144x720 with 1 Axes>"
      ]
     },
     "metadata": {},
     "output_type": "display_data"
    },
    {
     "name": "stdout",
     "output_type": "stream",
     "text": [
      "This is a 3\n"
     ]
    },
    {
     "data": {
      "image/png": "[encoded data removed]",
      "text/plain": [
       "<Figure size 144x720 with 1 Axes>"
      ]
     },
     "metadata": {},
     "output_type": "display_data"
    },
    {
     "name": "stdout",
     "output_type": "stream",
     "text": [
      "This is a 1\n"
     ]
    },
    {
     "data": {
      "image/png": "[encoded data removed]",
      "text/plain": [
       "<Figure size 144x720 with 1 Axes>"
      ]
     },
     "metadata": {},
     "output_type": "display_data"
    },
    {
     "name": "stdout",
     "output_type": "stream",
     "text": [
      "This is a 4\n"
     ]
    },
    {
     "data": {
      "image/png": "[encoded data removed]",
      "text/plain": [
       "<Figure size 144x720 with 1 Axes>"
      ]
     },
     "metadata": {},
     "output_type": "display_data"
    }
   ],
   "source": [
    "%matplotlib inline\n",
    "import matplotlib.pyplot as plt\n",
    "\n",
    "plt.rcParams[\"figure.figsize\"] = (2,10)\n",
    "\n",
    "for i in range(0, 10):\n",
    "    img = train_set[0][i]\n",
    "    label = train_set[1][i]\n",
    "    img_reshape = img.reshape((28,28))\n",
    "    imgplot = plt.imshow(img_reshape, cmap='gray')\n",
    "    print('This is a {}'.format(label))\n",
    "    plt.show()"
   ]
  },
  {
   "cell_type": "markdown",
   "metadata": {},
   "source": [
    "这一步我们将刚才numpy数据转换成CSV文件并上传到一个S3的存储桶中\n",
    "\n",
    "我们通过prefix的方式组织train、validation和test数据"
   ]
  },
  {
   "cell_type": "code",
   "execution_count": 13,
   "metadata": {},
   "outputs": [
    {
     "name": "stdout",
     "output_type": "stream",
     "text": [
      "train: (50000, 784) (50000,)\n",
      "Done writing to s3://sagemaker-mnist-datasets/tf-mnist/train/examples\n",
      "validation: (10000, 784) (10000,)\n",
      "Done writing to s3://sagemaker-mnist-datasets/tf-mnist/validation/examples\n",
      "test: (10000, 784) (10000,)\n",
      "Done writing to s3://sagemaker-mnist-datasets/tf-mnist/test/examples\n",
      "CPU times: user 31.2 s, sys: 4.18 s, total: 35.4 s\n",
      "Wall time: 43.2 s\n"
     ]
    }
   ],
   "source": [
    "%%time\n",
    "\n",
    "import os\n",
    "import boto3\n",
    "import re\n",
    "import copy\n",
    "import time\n",
    "import io\n",
    "import struct\n",
    "from time import gmtime, strftime\n",
    "from sagemaker import get_execution_role\n",
    "\n",
    "role = get_execution_role()\n",
    "\n",
    "region = boto3.Session().region_name\n",
    "\n",
    "bucket='sagemaker-mnist-datasets' # Replace with your s3 bucket name\n",
    "prefix = 'tf-mnist' # Used as part of the path in the bucket where you store data\n",
    "bucket_path = 'https://s3-{}.amazonaws.com/{}'.format(region,bucket) # The URL to access the bucket\n",
    "\n",
    "\n",
    "def convert_data():\n",
    "    data_partitions = [('train', train_set), ('validation', valid_set), ('test', test_set)]\n",
    "    for data_partition_name, data_partition in data_partitions:\n",
    "        print('{}: {} {}'.format(data_partition_name, data_partition[0].shape, data_partition[1].shape))\n",
    "        labels = [t.tolist() for t in data_partition[1]]\n",
    "        features = [t.tolist() for t in data_partition[0]]\n",
    "        \n",
    "        if data_partition_name != 'test':\n",
    "            examples = np.insert(features, 0, labels, axis=1)  # 在feature矩阵的第0列插入labels\n",
    "        else:\n",
    "            examples = features  # test数据集没有把labels加进去，why？\n",
    "        \n",
    "        np.savetxt('data.csv', examples, delimiter=',')\n",
    "        \n",
    "        key = \"{}/{}/examples\".format(prefix,data_partition_name)\n",
    "        url = 's3://{}/{}'.format(bucket, key)\n",
    "        boto3.Session().resource('s3').Bucket(bucket).Object(key).upload_file('data.csv')\n",
    "        print('Done writing to {}'.format(url))\n",
    "        \n",
    "convert_data()"
   ]
  },
  {
   "cell_type": "markdown",
   "metadata": {},
   "source": [
    "### 2、Sagemaker整体工作流程"
   ]
  },
  {
   "cell_type": "markdown",
   "metadata": {},
   "source": [
    "#### 2.1、定义sagemaker的数据集\n",
    "\n",
    "定义各个数据集的S3 URL，这些数据将作为训练数据和验证数据传入到sagemaker训练容器中"
   ]
  },
  {
   "cell_type": "code",
   "execution_count": 14,
   "metadata": {},
   "outputs": [
    {
     "name": "stdout",
     "output_type": "stream",
     "text": [
      "the train data's url is s3://sagemaker-mnist-datasets/tf-mnist/train\n"
     ]
    }
   ],
   "source": [
    "train_data = 's3://{}/{}/{}'.format(bucket, prefix, 'train')\n",
    "\n",
    "validation_data = 's3://{}/{}/{}'.format(bucket, prefix, 'validation')\n",
    "\n",
    "s3_output_location = 's3://{}/{}/{}'.format(bucket, prefix, 'tf-mninst-output')\n",
    "\n",
    "print('the train data\\'s url is {}'.format(train_data))"
   ]
  },
  {
   "cell_type": "markdown",
   "metadata": {},
   "source": [
    "定义用于训练和验证的数据集Channel，一会儿会作为参数传个训练任务\n",
    "\n",
    "sagemaker会将对应channel的数据现在训练实例上，然后mount到训练容器的/opt/ml/data/目录下\n",
    "\n",
    "    /opt/ml\n",
    "    ├── input\n",
    "    │   ├── config\n",
    "    │   │   ├── hyperparameters.json\n",
    "    │   │   └── resourceConfig.json\n",
    "    │   └── data\n",
    "    │       └── <channel_name>\n",
    "    │           └── <input data>\n",
    "    ├── model\n",
    "    │   └── <model files>\n",
    "    └── output\n",
    "        └── failure\n",
    "\n",
    "另外训练算法在训练结束后要把model保存在/opt/ml/model下，sagamaker会在训练结束后把model保存到S3上\n",
    "\n",
    "训练中的error可以写到/opt/ml/output/failure中，这些信息可以在训练结束后通过接口获取到"
   ]
  },
  {
   "cell_type": "code",
   "execution_count": 15,
   "metadata": {},
   "outputs": [
    {
     "name": "stdout",
     "output_type": "stream",
     "text": [
      "{'train': 's3://sagemaker-mnist-datasets/tf-mnist/train', 'validation': 's3://sagemaker-mnist-datasets/tf-mnist/validation'}\n"
     ]
    }
   ],
   "source": [
    "data_channels = {'train': train_data, 'validation': validation_data}\n",
    "print(data_channels)"
   ]
  },
  {
   "cell_type": "markdown",
   "metadata": {},
   "source": [
    "#### 2.2、本地模型训练"
   ]
  },
  {
   "cell_type": "markdown",
   "metadata": {},
   "source": [
    "创建训练任务，这个任务是基于sagemaker sdk中的Tensorflow类创建的，生成这个对象之后，就可以通过fit、deploy等操作简化训练任务和部署的复杂度\n",
    "\n",
    "其背后的逻辑是，通过其中的一些参数（比如framework_version、py_version）找到对应版本的sagamaker定制的tensorflow镜像，然后启动容器进行训练和部署\n",
    "\n",
    "另外其他的参数都会以环境变量的形式，在容器中设置，训练算法可以使用他们把参数解析出来，具体各个环境变量的含义可以参考这个链接：https://github.com/aws/sagemaker-containers ，把这些训练参数转换成环境变量实际上是通过sagemaker-containers这个lib实现的，sagemaker内置的训练容器都安装了这个包\n",
    "\n",
    "如果是使用Tensorflow实例进行训练，需要使用script_mode，指定自己的训练脚本（entry_point），这个entry_point就是训练脚本，在这个训练脚本中可以进行数据获取，模型获取，训练算法，模型保存等操作，这些都是开发者自己控制的\n",
    "\n",
    "开发者可以通过sagemaker的local模式在notebook本地进行训练，local模式实际上是通过docker compose在本地启动训练容器，整个启动的过程会比在sagemaker启动训练job快的多"
   ]
  },
  {
   "cell_type": "code",
   "execution_count": 16,
   "metadata": {},
   "outputs": [],
   "source": [
    "# 本地模型\n",
    "\n",
    "import sagemaker\n",
    "from sagemaker.tensorflow import TensorFlow\n",
    "\n",
    "model_dir = '/opt/ml/model'\n",
    "train_instance_type = 'local'\n",
    "# train_instance_type = 'ml.m5.xlarge'\n",
    "hyperparameters = {'epochs': 1, 'batch_size': 128, 'learning_rate': 0.01, 'other_para':0.1}\n",
    "local_tf_estimator = TensorFlow(\n",
    "                       entry_point='my_train_1.py',\n",
    "                       model_dir=model_dir,\n",
    "                       train_instance_type=train_instance_type,\n",
    "                       train_instance_count=1,\n",
    "                       hyperparameters=hyperparameters,\n",
    "                       role=sagemaker.get_execution_role(),\n",
    "                       base_job_name='tf-scriptmode-mnist',\n",
    "                       framework_version='2.0.0',\n",
    "                       py_version='py3',\n",
    "                       script_mode=True)"
   ]
  },
  {
   "cell_type": "markdown",
   "metadata": {},
   "source": [
    "调用fit方法就会开始训练，input中传入data channel信息，这些信息也会以环境变量方式传递给容器\n",
    "\n",
    "调用fit方法，会执行以下操作：\n",
    "\n",
    "- 启动对应版本的Tensorflow容器\n",
    "- 下载数据集\n",
    "- 设置容器的环境变量（因为sagemaker容器都调用了sagemaker-containers库，所以可以实现这一步）\n",
    "- 设置分布式训练环境\n",
    "- 然后开始训练算法\n",
    "- 训练完成后从/opt/ml/model路径下把保存的model打包并保存到S3（注意：保存的路径一定要是numeric）\n",
    "通过训练任务的输出可以看到sagemaker容器中设置好的环境变量，以及调用entry_point时的调用命令和参数是什么，还包括训练脚本中所有的输出"
   ]
  },
  {
   "cell_type": "code",
   "execution_count": 17,
   "metadata": {},
   "outputs": [
    {
     "name": "stdout",
     "output_type": "stream",
     "text": [
      "Creating tmpr32lmvto_algo-1-aorl8_1 ... \n",
      "\u001b[1BAttaching to tmpr32lmvto_algo-1-aorl8_12mdone\u001b[0m\n",
      "\u001b[36malgo-1-aorl8_1  |\u001b[0m 2020-06-11 09:54:01,342 sagemaker-containers INFO     Imported framework sagemaker_tensorflow_container.training\n",
      "\u001b[36malgo-1-aorl8_1  |\u001b[0m 2020-06-11 09:54:01,350 sagemaker-containers INFO     No GPUs detected (normal if no gpus installed)\n",
      "\u001b[36malgo-1-aorl8_1  |\u001b[0m 2020-06-11 09:54:01,501 sagemaker-containers INFO     No GPUs detected (normal if no gpus installed)\n",
      "\u001b[36malgo-1-aorl8_1  |\u001b[0m 2020-06-11 09:54:01,518 sagemaker-containers INFO     No GPUs detected (normal if no gpus installed)\n",
      "\u001b[36malgo-1-aorl8_1  |\u001b[0m 2020-06-11 09:54:01,536 sagemaker-containers INFO     No GPUs detected (normal if no gpus installed)\n",
      "\u001b[36malgo-1-aorl8_1  |\u001b[0m 2020-06-11 09:54:01,546 sagemaker-containers INFO     Invoking user script\n",
      "\u001b[36malgo-1-aorl8_1  |\u001b[0m \n",
      "\u001b[36malgo-1-aorl8_1  |\u001b[0m Training Env:\n",
      "\u001b[36malgo-1-aorl8_1  |\u001b[0m \n",
      "\u001b[36malgo-1-aorl8_1  |\u001b[0m {\n",
      "\u001b[36malgo-1-aorl8_1  |\u001b[0m     \"additional_framework_parameters\": {},\n",
      "\u001b[36malgo-1-aorl8_1  |\u001b[0m     \"channel_input_dirs\": {\n",
      "\u001b[36malgo-1-aorl8_1  |\u001b[0m         \"train\": \"/opt/ml/input/data/train\",\n",
      "\u001b[36malgo-1-aorl8_1  |\u001b[0m         \"validation\": \"/opt/ml/input/data/validation\"\n",
      "\u001b[36malgo-1-aorl8_1  |\u001b[0m     },\n",
      "\u001b[36malgo-1-aorl8_1  |\u001b[0m     \"current_host\": \"algo-1-aorl8\",\n",
      "\u001b[36malgo-1-aorl8_1  |\u001b[0m     \"framework_module\": \"sagemaker_tensorflow_container.training:main\",\n",
      "\u001b[36malgo-1-aorl8_1  |\u001b[0m     \"hosts\": [\n",
      "\u001b[36malgo-1-aorl8_1  |\u001b[0m         \"algo-1-aorl8\"\n",
      "\u001b[36malgo-1-aorl8_1  |\u001b[0m     ],\n",
      "\u001b[36malgo-1-aorl8_1  |\u001b[0m     \"hyperparameters\": {\n",
      "\u001b[36malgo-1-aorl8_1  |\u001b[0m         \"epochs\": 1,\n",
      "\u001b[36malgo-1-aorl8_1  |\u001b[0m         \"batch_size\": 128,\n",
      "\u001b[36malgo-1-aorl8_1  |\u001b[0m         \"learning_rate\": 0.01,\n",
      "\u001b[36malgo-1-aorl8_1  |\u001b[0m         \"other_para\": 0.1,\n",
      "\u001b[36malgo-1-aorl8_1  |\u001b[0m         \"model_dir\": \"/opt/ml/model\"\n",
      "\u001b[36malgo-1-aorl8_1  |\u001b[0m     },\n",
      "\u001b[36malgo-1-aorl8_1  |\u001b[0m     \"input_config_dir\": \"/opt/ml/input/config\",\n",
      "\u001b[36malgo-1-aorl8_1  |\u001b[0m     \"input_data_config\": {\n",
      "\u001b[36malgo-1-aorl8_1  |\u001b[0m         \"train\": {\n",
      "\u001b[36malgo-1-aorl8_1  |\u001b[0m             \"TrainingInputMode\": \"File\"\n",
      "\u001b[36malgo-1-aorl8_1  |\u001b[0m         },\n",
      "\u001b[36malgo-1-aorl8_1  |\u001b[0m         \"validation\": {\n",
      "\u001b[36malgo-1-aorl8_1  |\u001b[0m             \"TrainingInputMode\": \"File\"\n",
      "\u001b[36malgo-1-aorl8_1  |\u001b[0m         }\n",
      "\u001b[36malgo-1-aorl8_1  |\u001b[0m     },\n",
      "\u001b[36malgo-1-aorl8_1  |\u001b[0m     \"input_dir\": \"/opt/ml/input\",\n",
      "\u001b[36malgo-1-aorl8_1  |\u001b[0m     \"is_master\": true,\n",
      "\u001b[36malgo-1-aorl8_1  |\u001b[0m     \"job_name\": \"tf-scriptmode-mnist-2020-06-11-09-53-46-627\",\n",
      "\u001b[36malgo-1-aorl8_1  |\u001b[0m     \"log_level\": 20,\n",
      "\u001b[36malgo-1-aorl8_1  |\u001b[0m     \"master_hostname\": \"algo-1-aorl8\",\n",
      "\u001b[36malgo-1-aorl8_1  |\u001b[0m     \"model_dir\": \"/opt/ml/model\",\n",
      "\u001b[36malgo-1-aorl8_1  |\u001b[0m     \"module_dir\": \"s3://sagemaker-us-east-2-935206693453/tf-scriptmode-mnist-2020-06-11-09-53-46-627/source/sourcedir.tar.gz\",\n",
      "\u001b[36malgo-1-aorl8_1  |\u001b[0m     \"module_name\": \"my_train_1\",\n",
      "\u001b[36malgo-1-aorl8_1  |\u001b[0m     \"network_interface_name\": \"eth0\",\n",
      "\u001b[36malgo-1-aorl8_1  |\u001b[0m     \"num_cpus\": 4,\n",
      "\u001b[36malgo-1-aorl8_1  |\u001b[0m     \"num_gpus\": 0,\n",
      "\u001b[36malgo-1-aorl8_1  |\u001b[0m     \"output_data_dir\": \"/opt/ml/output/data\",\n",
      "\u001b[36malgo-1-aorl8_1  |\u001b[0m     \"output_dir\": \"/opt/ml/output\",\n",
      "\u001b[36malgo-1-aorl8_1  |\u001b[0m     \"output_intermediate_dir\": \"/opt/ml/output/intermediate\",\n",
      "\u001b[36malgo-1-aorl8_1  |\u001b[0m     \"resource_config\": {\n",
      "\u001b[36malgo-1-aorl8_1  |\u001b[0m         \"current_host\": \"algo-1-aorl8\",\n",
      "\u001b[36malgo-1-aorl8_1  |\u001b[0m         \"hosts\": [\n",
      "\u001b[36malgo-1-aorl8_1  |\u001b[0m             \"algo-1-aorl8\"\n",
      "\u001b[36malgo-1-aorl8_1  |\u001b[0m         ]\n",
      "\u001b[36malgo-1-aorl8_1  |\u001b[0m     },\n",
      "\u001b[36malgo-1-aorl8_1  |\u001b[0m     \"user_entry_point\": \"my_train_1.py\"\n",
      "\u001b[36malgo-1-aorl8_1  |\u001b[0m }\n",
      "\u001b[36malgo-1-aorl8_1  |\u001b[0m \n",
      "\u001b[36malgo-1-aorl8_1  |\u001b[0m Environment variables:\n",
      "\u001b[36malgo-1-aorl8_1  |\u001b[0m \n",
      "\u001b[36malgo-1-aorl8_1  |\u001b[0m SM_HOSTS=[\"algo-1-aorl8\"]\n",
      "\u001b[36malgo-1-aorl8_1  |\u001b[0m SM_NETWORK_INTERFACE_NAME=eth0\n",
      "\u001b[36malgo-1-aorl8_1  |\u001b[0m SM_HPS={\"batch_size\":128,\"epochs\":1,\"learning_rate\":0.01,\"model_dir\":\"/opt/ml/model\",\"other_para\":0.1}\n",
      "\u001b[36malgo-1-aorl8_1  |\u001b[0m SM_USER_ENTRY_POINT=my_train_1.py\n",
      "\u001b[36malgo-1-aorl8_1  |\u001b[0m SM_FRAMEWORK_PARAMS={}\n",
      "\u001b[36malgo-1-aorl8_1  |\u001b[0m SM_RESOURCE_CONFIG={\"current_host\":\"algo-1-aorl8\",\"hosts\":[\"algo-1-aorl8\"]}\n",
      "\u001b[36malgo-1-aorl8_1  |\u001b[0m SM_INPUT_DATA_CONFIG={\"train\":{\"TrainingInputMode\":\"File\"},\"validation\":{\"TrainingInputMode\":\"File\"}}\n",
      "\u001b[36malgo-1-aorl8_1  |\u001b[0m SM_OUTPUT_DATA_DIR=/opt/ml/output/data\n",
      "\u001b[36malgo-1-aorl8_1  |\u001b[0m SM_CHANNELS=[\"train\",\"validation\"]\n",
      "\u001b[36malgo-1-aorl8_1  |\u001b[0m SM_CURRENT_HOST=algo-1-aorl8\n",
      "\u001b[36malgo-1-aorl8_1  |\u001b[0m SM_MODULE_NAME=my_train_1\n",
      "\u001b[36malgo-1-aorl8_1  |\u001b[0m SM_LOG_LEVEL=20\n",
      "\u001b[36malgo-1-aorl8_1  |\u001b[0m SM_FRAMEWORK_MODULE=sagemaker_tensorflow_container.training:main\n",
      "\u001b[36malgo-1-aorl8_1  |\u001b[0m SM_INPUT_DIR=/opt/ml/input\n",
      "\u001b[36malgo-1-aorl8_1  |\u001b[0m SM_INPUT_CONFIG_DIR=/opt/ml/input/config\n",
      "\u001b[36malgo-1-aorl8_1  |\u001b[0m SM_OUTPUT_DIR=/opt/ml/output\n",
      "\u001b[36malgo-1-aorl8_1  |\u001b[0m SM_NUM_CPUS=4\n",
      "\u001b[36malgo-1-aorl8_1  |\u001b[0m SM_NUM_GPUS=0\n",
      "\u001b[36malgo-1-aorl8_1  |\u001b[0m SM_MODEL_DIR=/opt/ml/model\n",
      "\u001b[36malgo-1-aorl8_1  |\u001b[0m SM_MODULE_DIR=s3://sagemaker-us-east-2-935206693453/tf-scriptmode-mnist-2020-06-11-09-53-46-627/source/sourcedir.tar.gz\n",
      "\u001b[36malgo-1-aorl8_1  |\u001b[0m SM_TRAINING_ENV={\"additional_framework_parameters\":{},\"channel_input_dirs\":{\"train\":\"/opt/ml/input/data/train\",\"validation\":\"/opt/ml/input/data/validation\"},\"current_host\":\"algo-1-aorl8\",\"framework_module\":\"sagemaker_tensorflow_container.training:main\",\"hosts\":[\"algo-1-aorl8\"],\"hyperparameters\":{\"batch_size\":128,\"epochs\":1,\"learning_rate\":0.01,\"model_dir\":\"/opt/ml/model\",\"other_para\":0.1},\"input_config_dir\":\"/opt/ml/input/config\",\"input_data_config\":{\"train\":{\"TrainingInputMode\":\"File\"},\"validation\":{\"TrainingInputMode\":\"File\"}},\"input_dir\":\"/opt/ml/input\",\"is_master\":true,\"job_name\":\"tf-scriptmode-mnist-2020-06-11-09-53-46-627\",\"log_level\":20,\"master_hostname\":\"algo-1-aorl8\",\"model_dir\":\"/opt/ml/model\",\"module_dir\":\"s3://sagemaker-us-east-2-935206693453/tf-scriptmode-mnist-2020-06-11-09-53-46-627/source/sourcedir.tar.gz\",\"module_name\":\"my_train_1\",\"network_interface_name\":\"eth0\",\"num_cpus\":4,\"num_gpus\":0,\"output_data_dir\":\"/opt/ml/output/data\",\"output_dir\":\"/opt/ml/output\",\"output_intermediate_dir\":\"/opt/ml/output/intermediate\",\"resource_config\":{\"current_host\":\"algo-1-aorl8\",\"hosts\":[\"algo-1-aorl8\"]},\"user_entry_point\":\"my_train_1.py\"}\n",
      "\u001b[36malgo-1-aorl8_1  |\u001b[0m SM_USER_ARGS=[\"--batch_size\",\"128\",\"--epochs\",\"1\",\"--learning_rate\",\"0.01\",\"--model_dir\",\"/opt/ml/model\",\"--other_para\",\"0.1\"]\n",
      "\u001b[36malgo-1-aorl8_1  |\u001b[0m SM_OUTPUT_INTERMEDIATE_DIR=/opt/ml/output/intermediate\n",
      "\u001b[36malgo-1-aorl8_1  |\u001b[0m SM_CHANNEL_TRAIN=/opt/ml/input/data/train\n",
      "\u001b[36malgo-1-aorl8_1  |\u001b[0m SM_CHANNEL_VALIDATION=/opt/ml/input/data/validation\n",
      "\u001b[36malgo-1-aorl8_1  |\u001b[0m SM_HP_EPOCHS=1\n",
      "\u001b[36malgo-1-aorl8_1  |\u001b[0m SM_HP_BATCH_SIZE=128\n",
      "\u001b[36malgo-1-aorl8_1  |\u001b[0m SM_HP_LEARNING_RATE=0.01\n",
      "\u001b[36malgo-1-aorl8_1  |\u001b[0m SM_HP_OTHER_PARA=0.1\n",
      "\u001b[36malgo-1-aorl8_1  |\u001b[0m SM_HP_MODEL_DIR=/opt/ml/model\n",
      "\u001b[36malgo-1-aorl8_1  |\u001b[0m PYTHONPATH=/opt/ml/code:/usr/local/bin:/usr/lib/python36.zip:/usr/lib/python3.6:/usr/lib/python3.6/lib-dynload:/usr/local/lib/python3.6/dist-packages:/usr/lib/python3/dist-packages\n",
      "\u001b[36malgo-1-aorl8_1  |\u001b[0m \n",
      "\u001b[36malgo-1-aorl8_1  |\u001b[0m Invoking script with the following command:\n",
      "\u001b[36malgo-1-aorl8_1  |\u001b[0m \n",
      "\u001b[36malgo-1-aorl8_1  |\u001b[0m /usr/bin/python3 my_train_1.py --batch_size 128 --epochs 1 --learning_rate 0.01 --model_dir /opt/ml/model --other_para 0.1\n",
      "\u001b[36malgo-1-aorl8_1  |\u001b[0m \n",
      "\u001b[36malgo-1-aorl8_1  |\u001b[0m \n",
      "\u001b[36malgo-1-aorl8_1  |\u001b[0m Model: \"sequential\"\n",
      "\u001b[36malgo-1-aorl8_1  |\u001b[0m _________________________________________________________________\n",
      "\u001b[36malgo-1-aorl8_1  |\u001b[0m Layer (type)                 Output Shape              Param #   \n",
      "\u001b[36malgo-1-aorl8_1  |\u001b[0m =================================================================\n",
      "\u001b[36malgo-1-aorl8_1  |\u001b[0m dense (Dense)                (None, 256)               200960    \n",
      "\u001b[36malgo-1-aorl8_1  |\u001b[0m _________________________________________________________________\n",
      "\u001b[36malgo-1-aorl8_1  |\u001b[0m dense_1 (Dense)              (None, 128)               32896     \n",
      "\u001b[36malgo-1-aorl8_1  |\u001b[0m _________________________________________________________________\n",
      "\u001b[36malgo-1-aorl8_1  |\u001b[0m dense_2 (Dense)              (None, 64)                8256      \n",
      "\u001b[36malgo-1-aorl8_1  |\u001b[0m _________________________________________________________________\n",
      "\u001b[36malgo-1-aorl8_1  |\u001b[0m dense_3 (Dense)              (None, 32)                2080      \n",
      "\u001b[36malgo-1-aorl8_1  |\u001b[0m _________________________________________________________________\n",
      "\u001b[36malgo-1-aorl8_1  |\u001b[0m dense_4 (Dense)              (None, 10)                330       \n",
      "\u001b[36malgo-1-aorl8_1  |\u001b[0m =================================================================\n",
      "\u001b[36malgo-1-aorl8_1  |\u001b[0m Total params: 244,522\n",
      "\u001b[36malgo-1-aorl8_1  |\u001b[0m Trainable params: 244,522\n",
      "\u001b[36malgo-1-aorl8_1  |\u001b[0m Non-trainable params: 0\n",
      "\u001b[36malgo-1-aorl8_1  |\u001b[0m _________________________________________________________________\n",
      "\u001b[36malgo-1-aorl8_1  |\u001b[0m train dataset x shape (128, 784), train dataset y shape (128,)\n",
      "\u001b[36malgo-1-aorl8_1  |\u001b[0m epoch:0\t step:0\t loss_mse:0.08999767899513245\t loss_ce:2.302469253540039\t\n",
      "\u001b[36malgo-1-aorl8_1  |\u001b[0m epoch:0\t step:100\t loss_mse:0.04487235099077225\t loss_ce:0.9581607580184937\t\n",
      "\u001b[36malgo-1-aorl8_1  |\u001b[0m epoch:0\t step:200\t loss_mse:0.025158114731311798\t loss_ce:0.5360016822814941\t\n",
      "\u001b[36malgo-1-aorl8_1  |\u001b[0m epoch:0\t step:300\t loss_mse:0.02643047273159027\t loss_ce:0.6389331221580505\t\n",
      "\u001b[36malgo-1-aorl8_1  |\u001b[0m accuracy=0.9126;\n",
      "\u001b[36malgo-1-aorl8_1  |\u001b[0m WARNING:tensorflow:From /usr/local/lib/python3.6/dist-packages/tensorflow_core/python/ops/resource_variable_ops.py:1781: calling BaseResourceVariable.__init__ (from tensorflow.python.ops.resource_variable_ops) with constraint is deprecated and will be removed in a future version.\n",
      "\u001b[36malgo-1-aorl8_1  |\u001b[0m Instructions for updating:\n",
      "\u001b[36malgo-1-aorl8_1  |\u001b[0m If using Keras pass *_constraint arguments to layers.\n",
      "\u001b[36malgo-1-aorl8_1  |\u001b[0m 2020-06-11 09:54:44,975 sagemaker-containers INFO     Reporting training SUCCESS\n",
      "\u001b[36mtmpr32lmvto_algo-1-aorl8_1 exited with code 0\n",
      "\u001b[0mAborting on container exit...\n",
      "===== Job Complete =====\n"
     ]
    }
   ],
   "source": [
    "local_tf_estimator.fit(inputs=data_channels)"
   ]
  },
  {
   "cell_type": "markdown",
   "metadata": {},
   "source": [
    "可以直接通过sagemaker tensorflow的estimator对象进行模型的部署，可以先在本地部署进行模型推理功能验证\n",
    "\n",
    "可以看到这个部署过程实际上也是部署一个tensorflow serving的容器\n",
    "\n",
    "在容器中启动一个Nginx服务器，和一个Node.js的应用程序，用于解析请求的数据给后台的tensorflow serving这个服务，并且接收tensorflow serving返回的预测结果并返回给客户端\n",
    "\n",
    "如果要修改input 和 output的数据格式，可以通过在/opt/ml/input/code中添加一个inference.py的程序，这个后期再整理"
   ]
  },
  {
   "cell_type": "markdown",
   "metadata": {},
   "source": [
    "#### 2.3、本地部署和推理"
   ]
  },
  {
   "cell_type": "code",
   "execution_count": 18,
   "metadata": {},
   "outputs": [
    {
     "name": "stdout",
     "output_type": "stream",
     "text": [
      "Attaching to tmppl49zkes_algo-1-of4bl_1\n",
      "\u001b[36malgo-1-of4bl_1  |\u001b[0m INFO:__main__:starting services\n",
      "\u001b[36malgo-1-of4bl_1  |\u001b[0m INFO:__main__:using default model name: model\n",
      "\u001b[36malgo-1-of4bl_1  |\u001b[0m INFO:__main__:tensorflow serving model config: \n",
      "\u001b[36malgo-1-of4bl_1  |\u001b[0m model_config_list: {\n",
      "\u001b[36malgo-1-of4bl_1  |\u001b[0m   config: {\n",
      "\u001b[36malgo-1-of4bl_1  |\u001b[0m     name: \"model\",\n",
      "\u001b[36malgo-1-of4bl_1  |\u001b[0m     base_path: \"/opt/ml/model\",\n",
      "\u001b[36malgo-1-of4bl_1  |\u001b[0m     model_platform: \"tensorflow\"\n",
      "\u001b[36malgo-1-of4bl_1  |\u001b[0m   }\n",
      "\u001b[36malgo-1-of4bl_1  |\u001b[0m }\n",
      "\u001b[36malgo-1-of4bl_1  |\u001b[0m \n",
      "\u001b[36malgo-1-of4bl_1  |\u001b[0m \n",
      "\u001b[36malgo-1-of4bl_1  |\u001b[0m INFO:__main__:nginx config: \n",
      "\u001b[36malgo-1-of4bl_1  |\u001b[0m load_module modules/ngx_http_js_module.so;\n",
      "\u001b[36malgo-1-of4bl_1  |\u001b[0m \n",
      "\u001b[36malgo-1-of4bl_1  |\u001b[0m worker_processes auto;\n",
      "\u001b[36malgo-1-of4bl_1  |\u001b[0m daemon off;\n",
      "\u001b[36malgo-1-of4bl_1  |\u001b[0m pid /tmp/nginx.pid;\n",
      "\u001b[36malgo-1-of4bl_1  |\u001b[0m error_log  /dev/stderr info;\n",
      "\u001b[36malgo-1-of4bl_1  |\u001b[0m \n",
      "\u001b[36malgo-1-of4bl_1  |\u001b[0m worker_rlimit_nofile 4096;\n",
      "\u001b[36malgo-1-of4bl_1  |\u001b[0m \n",
      "\u001b[36malgo-1-of4bl_1  |\u001b[0m events {\n",
      "\u001b[36malgo-1-of4bl_1  |\u001b[0m   worker_connections 2048;\n",
      "\u001b[36malgo-1-of4bl_1  |\u001b[0m }\n",
      "\u001b[36malgo-1-of4bl_1  |\u001b[0m \n",
      "\u001b[36malgo-1-of4bl_1  |\u001b[0m http {\n",
      "\u001b[36malgo-1-of4bl_1  |\u001b[0m   include /etc/nginx/mime.types;\n",
      "\u001b[36malgo-1-of4bl_1  |\u001b[0m   default_type application/json;\n",
      "\u001b[36malgo-1-of4bl_1  |\u001b[0m   access_log /dev/stdout combined;\n",
      "\u001b[36malgo-1-of4bl_1  |\u001b[0m   js_include tensorflow-serving.js;\n",
      "\u001b[36malgo-1-of4bl_1  |\u001b[0m \n",
      "\u001b[36malgo-1-of4bl_1  |\u001b[0m   upstream tfs_upstream {\n",
      "\u001b[36malgo-1-of4bl_1  |\u001b[0m     server localhost:8501;\n",
      "\u001b[36malgo-1-of4bl_1  |\u001b[0m   }\n",
      "\u001b[36malgo-1-of4bl_1  |\u001b[0m \n",
      "\u001b[36malgo-1-of4bl_1  |\u001b[0m   upstream gunicorn_upstream {\n",
      "\u001b[36malgo-1-of4bl_1  |\u001b[0m     server unix:/tmp/gunicorn.sock fail_timeout=1;\n",
      "\u001b[36malgo-1-of4bl_1  |\u001b[0m   }\n",
      "\u001b[36malgo-1-of4bl_1  |\u001b[0m \n",
      "\u001b[36malgo-1-of4bl_1  |\u001b[0m   server {\n",
      "\u001b[36malgo-1-of4bl_1  |\u001b[0m     listen 8080 deferred;\n",
      "\u001b[36malgo-1-of4bl_1  |\u001b[0m     client_max_body_size 0;\n",
      "\u001b[36malgo-1-of4bl_1  |\u001b[0m     client_body_buffer_size 100m;\n",
      "\u001b[36malgo-1-of4bl_1  |\u001b[0m     subrequest_output_buffer_size 100m;\n",
      "\u001b[36malgo-1-of4bl_1  |\u001b[0m \n",
      "\u001b[36malgo-1-of4bl_1  |\u001b[0m     set $tfs_version 2.0.1;\n",
      "\u001b[36malgo-1-of4bl_1  |\u001b[0m     set $default_tfs_model model;\n",
      "\u001b[36malgo-1-of4bl_1  |\u001b[0m \n",
      "\u001b[36malgo-1-of4bl_1  |\u001b[0m     location /tfs {\n",
      "\u001b[36malgo-1-of4bl_1  |\u001b[0m         rewrite ^/tfs/(.*) /$1  break;\n",
      "\u001b[36malgo-1-of4bl_1  |\u001b[0m         proxy_redirect off;\n",
      "\u001b[36malgo-1-of4bl_1  |\u001b[0m         proxy_pass_request_headers off;\n",
      "\u001b[36malgo-1-of4bl_1  |\u001b[0m         proxy_set_header Content-Type 'application/json';\n",
      "\u001b[36malgo-1-of4bl_1  |\u001b[0m         proxy_set_header Accept 'application/json';\n",
      "\u001b[36malgo-1-of4bl_1  |\u001b[0m         proxy_pass http://tfs_upstream;\n",
      "\u001b[36malgo-1-of4bl_1  |\u001b[0m     }\n",
      "\u001b[36malgo-1-of4bl_1  |\u001b[0m \n",
      "\u001b[36malgo-1-of4bl_1  |\u001b[0m     location /ping {\n",
      "\u001b[36malgo-1-of4bl_1  |\u001b[0m         js_content ping_without_model;\n",
      "\u001b[36malgo-1-of4bl_1  |\u001b[0m     }\n",
      "\u001b[36malgo-1-of4bl_1  |\u001b[0m \n",
      "\u001b[36malgo-1-of4bl_1  |\u001b[0m     location /invocations {\n",
      "\u001b[36malgo-1-of4bl_1  |\u001b[0m         js_content invocations;\n",
      "\u001b[36malgo-1-of4bl_1  |\u001b[0m     }\n",
      "\u001b[36malgo-1-of4bl_1  |\u001b[0m \n",
      "\u001b[36malgo-1-of4bl_1  |\u001b[0m     location ~ ^/models/(.*)/invoke {\n",
      "\u001b[36malgo-1-of4bl_1  |\u001b[0m         js_content invocations;\n",
      "\u001b[36malgo-1-of4bl_1  |\u001b[0m     }\n",
      "\u001b[36malgo-1-of4bl_1  |\u001b[0m \n",
      "\u001b[36malgo-1-of4bl_1  |\u001b[0m     location /models {\n",
      "\u001b[36malgo-1-of4bl_1  |\u001b[0m         proxy_pass http://gunicorn_upstream/models;\n",
      "\u001b[36malgo-1-of4bl_1  |\u001b[0m     }\n",
      "\u001b[36malgo-1-of4bl_1  |\u001b[0m \n",
      "\u001b[36malgo-1-of4bl_1  |\u001b[0m     location / {\n",
      "\u001b[36malgo-1-of4bl_1  |\u001b[0m         return 404 '{\"error\": \"Not Found\"}';\n",
      "\u001b[36malgo-1-of4bl_1  |\u001b[0m     }\n",
      "\u001b[36malgo-1-of4bl_1  |\u001b[0m \n",
      "\u001b[36malgo-1-of4bl_1  |\u001b[0m     keepalive_timeout 3;\n",
      "\u001b[36malgo-1-of4bl_1  |\u001b[0m   }\n",
      "\u001b[36malgo-1-of4bl_1  |\u001b[0m }\n",
      "\u001b[36malgo-1-of4bl_1  |\u001b[0m \n",
      "\u001b[36malgo-1-of4bl_1  |\u001b[0m \n",
      "\u001b[36malgo-1-of4bl_1  |\u001b[0m INFO:__main__:tensorflow version info:\n",
      "\u001b[36malgo-1-of4bl_1  |\u001b[0m TensorFlow ModelServer: 2.0.0+dev.sha.1517a43\n",
      "\u001b[36malgo-1-of4bl_1  |\u001b[0m TensorFlow Library: 2.0.1\n",
      "\u001b[36malgo-1-of4bl_1  |\u001b[0m INFO:__main__:tensorflow serving command: tensorflow_model_server --port=9000 --rest_api_port=8501 --model_config_file=/sagemaker/model-config.cfg --max_num_load_retries=0 \n",
      "\u001b[36malgo-1-of4bl_1  |\u001b[0m INFO:__main__:started tensorflow serving (pid: 8)\n",
      "\u001b[36malgo-1-of4bl_1  |\u001b[0m INFO:__main__:nginx version info:\n",
      "\u001b[36malgo-1-of4bl_1  |\u001b[0m nginx version: nginx/1.16.1\n",
      "\u001b[36malgo-1-of4bl_1  |\u001b[0m built by gcc 7.4.0 (Ubuntu 7.4.0-1ubuntu1~18.04.1) \n",
      "\u001b[36malgo-1-of4bl_1  |\u001b[0m built with OpenSSL 1.1.1  11 Sep 2018\n",
      "\u001b[36malgo-1-of4bl_1  |\u001b[0m TLS SNI support enabled\n",
      "\u001b[36malgo-1-of4bl_1  |\u001b[0m configure arguments: --prefix=/etc/nginx --sbin-path=/usr/sbin/nginx --modules-path=/usr/lib/nginx/modules --conf-path=/etc/nginx/nginx.conf --error-log-path=/var/log/nginx/error.log --http-log-path=/var/log/nginx/access.log --pid-path=/var/run/nginx.pid --lock-path=/var/run/nginx.lock --http-client-body-temp-path=/var/cache/nginx/client_temp --http-proxy-temp-path=/var/cache/nginx/proxy_temp --http-fastcgi-temp-path=/var/cache/nginx/fastcgi_temp --http-uwsgi-temp-path=/var/cache/nginx/uwsgi_temp --http-scgi-temp-path=/var/cache/nginx/scgi_temp --user=nginx --group=nginx --with-compat --with-file-aio --with-threads --with-http_addition_module --with-http_auth_request_module --with-http_dav_module --with-http_flv_module --with-http_gunzip_module --with-http_gzip_static_module --with-http_mp4_module --with-http_random_index_module --with-http_realip_module --with-http_secure_link_module --with-http_slice_module --with-http_ssl_module --with-http_stub_status_module --with-http_sub_module --with-http_v2_module --with-mail --with-mail_ssl_module --with-stream --with-stream_realip_module --with-stream_ssl_module --with-stream_ssl_preread_module --with-cc-opt='-g -O2 -fdebug-prefix-map=/data/builder/debuild/nginx-1.16.1/debian/debuild-base/nginx-1.16.1=. -fstack-protector-strong -Wformat -Werror=format-security -Wp,-D_FORTIFY_SOURCE=2 -fPIC' --with-ld-opt='-Wl,-Bsymbolic-functions -Wl,-z,relro -Wl,-z,now -Wl,--as-needed -pie'\n",
      "\u001b[36malgo-1-of4bl_1  |\u001b[0m INFO:__main__:started nginx (pid: 10)\n",
      "\u001b[36malgo-1-of4bl_1  |\u001b[0m 2020/06/11 09:55:20 [notice] 10#10: using the \"epoll\" event method\n",
      "\u001b[36malgo-1-of4bl_1  |\u001b[0m 2020/06/11 09:55:20 [notice] 10#10: nginx/1.16.1\n",
      "\u001b[36malgo-1-of4bl_1  |\u001b[0m 2020/06/11 09:55:20 [notice] 10#10: built by gcc 7.4.0 (Ubuntu 7.4.0-1ubuntu1~18.04.1) \n",
      "\u001b[36malgo-1-of4bl_1  |\u001b[0m 2020/06/11 09:55:20 [notice] 10#10: OS: Linux 4.14.171-105.231.amzn1.x86_64\n",
      "\u001b[36malgo-1-of4bl_1  |\u001b[0m 2020/06/11 09:55:20 [notice] 10#10: getrlimit(RLIMIT_NOFILE): 1024:4096\n",
      "\u001b[36malgo-1-of4bl_1  |\u001b[0m 2020/06/11 09:55:20 [notice] 10#10: start worker processes\n",
      "\u001b[36malgo-1-of4bl_1  |\u001b[0m 2020/06/11 09:55:20 [notice] 10#10: start worker process 11\n",
      "\u001b[36malgo-1-of4bl_1  |\u001b[0m 2020/06/11 09:55:20 [notice] 10#10: start worker process 12\n",
      "\u001b[36malgo-1-of4bl_1  |\u001b[0m 2020/06/11 09:55:20 [notice] 10#10: start worker process 13\n",
      "\u001b[36malgo-1-of4bl_1  |\u001b[0m 2020/06/11 09:55:20 [notice] 10#10: start worker process 14\n",
      "\u001b[36malgo-1-of4bl_1  |\u001b[0m 2020-06-11 09:55:20.220030: I tensorflow_serving/model_servers/server_core.cc:462] Adding/updating models.\n",
      "\u001b[36malgo-1-of4bl_1  |\u001b[0m 2020-06-11 09:55:20.220054: I tensorflow_serving/model_servers/server_core.cc:573]  (Re-)adding model: model\n",
      "\u001b[36malgo-1-of4bl_1  |\u001b[0m 2020-06-11 09:55:20.320358: I tensorflow_serving/util/retrier.cc:46] Retrying of Reserving resources for servable: {name: model version: 20200611095443} exhausted max_num_retries: 0\n",
      "\u001b[36malgo-1-of4bl_1  |\u001b[0m 2020-06-11 09:55:20.320391: I tensorflow_serving/core/basic_manager.cc:739] Successfully reserved resources to load servable {name: model version: 20200611095443}\n",
      "\u001b[36malgo-1-of4bl_1  |\u001b[0m 2020-06-11 09:55:20.320405: I tensorflow_serving/core/loader_harness.cc:66] Approving load for servable version {name: model version: 20200611095443}\n",
      "\u001b[36malgo-1-of4bl_1  |\u001b[0m 2020-06-11 09:55:20.320416: I tensorflow_serving/core/loader_harness.cc:74] Loading servable version {name: model version: 20200611095443}\n",
      "\u001b[36malgo-1-of4bl_1  |\u001b[0m 2020-06-11 09:55:20.320440: I external/org_tensorflow/tensorflow/cc/saved_model/reader.cc:31] Reading SavedModel from: /opt/ml/model/20200611095443\n",
      "\u001b[36malgo-1-of4bl_1  |\u001b[0m 2020-06-11 09:55:20.323195: I external/org_tensorflow/tensorflow/cc/saved_model/reader.cc:54] Reading meta graph with tags { serve }\n",
      "\u001b[36malgo-1-of4bl_1  |\u001b[0m 2020-06-11 09:55:20.325993: I external/org_tensorflow/tensorflow/core/platform/cpu_feature_guard.cc:145] This TensorFlow binary is optimized with Intel(R) MKL-DNN to use the following CPU instructions in performance critical operations:  AVX512F\n",
      "\u001b[36malgo-1-of4bl_1  |\u001b[0m To enable them in non-MKL-DNN operations, rebuild TensorFlow with the appropriate compiler flags.\n",
      "\u001b[36malgo-1-of4bl_1  |\u001b[0m 2020-06-11 09:55:20.326887: I external/org_tensorflow/tensorflow/core/common_runtime/process_util.cc:115] Creating new thread pool with default inter op setting: 2. Tune using inter_op_parallelism_threads for best performance.\n",
      "\u001b[36malgo-1-of4bl_1  |\u001b[0m 2020-06-11 09:55:20.351806: I external/org_tensorflow/tensorflow/cc/saved_model/loader.cc:202] Restoring SavedModel bundle.\n",
      "\u001b[36malgo-1-of4bl_1  |\u001b[0m 2020-06-11 09:55:20.386761: I external/org_tensorflow/tensorflow/cc/saved_model/loader.cc:151] Running initialization op on SavedModel bundle at path: /opt/ml/model/20200611095443\n",
      "\u001b[36malgo-1-of4bl_1  |\u001b[0m 2020-06-11 09:55:20.394185: I external/org_tensorflow/tensorflow/cc/saved_model/loader.cc:311] SavedModel load for tags { serve }; Status: success. Took 73742 microseconds.\n",
      "\u001b[36malgo-1-of4bl_1  |\u001b[0m 2020-06-11 09:55:20.394897: I tensorflow_serving/servables/tensorflow/saved_model_warmup.cc:105] No warmup data file found at /opt/ml/model/20200611095443/assets.extra/tf_serving_warmup_requests\n",
      "\u001b[36malgo-1-of4bl_1  |\u001b[0m 2020-06-11 09:55:20.395416: I tensorflow_serving/util/retrier.cc:46] Retrying of Loading servable: {name: model version: 20200611095443} exhausted max_num_retries: 0\n",
      "\u001b[36malgo-1-of4bl_1  |\u001b[0m 2020-06-11 09:55:20.395434: I tensorflow_serving/core/loader_harness.cc:87] Successfully loaded servable version {name: model version: 20200611095443}\n",
      "\u001b[36malgo-1-of4bl_1  |\u001b[0m 2020-06-11 09:55:20.397279: I tensorflow_serving/model_servers/server.cc:353] Running gRPC ModelServer at 0.0.0.0:9000 ...\n",
      "\u001b[36malgo-1-of4bl_1  |\u001b[0m [warn] getaddrinfo: address family for nodename not supported\n",
      "\u001b[36malgo-1-of4bl_1  |\u001b[0m 2020-06-11 09:55:20.398250: I tensorflow_serving/model_servers/server.cc:373] Exporting HTTP/REST API at:localhost:8501 ...\n",
      "\u001b[36malgo-1-of4bl_1  |\u001b[0m [evhttp_server.cc : 238] NET_LOG: Entering the event loop ...\n",
      "!\u001b[36malgo-1-of4bl_1  |\u001b[0m 172.18.0.1 - - [11/Jun/2020:09:55:24 +0000] \"GET /ping HTTP/1.1\" 200 0 \"-\" \"-\"\n"
     ]
    }
   ],
   "source": [
    "local_tf_predictor = local_tf_estimator.deploy(initial_instance_count=1,instance_type='local')"
   ]
  },
  {
   "cell_type": "markdown",
   "metadata": {},
   "source": [
    "把最开始处理好的test_set传进去进行预测的验证\n",
    "\n",
    "这里把传进去的数据进行（/255）归一化处理，因为在训练算法内部是做了归一化的，所以预测的输入也得进行归一化处理，这个流程需要优化，后期在源数据的阶段就归一化，这样训练算法内部就不用归一化了"
   ]
  },
  {
   "cell_type": "code",
   "execution_count": 19,
   "metadata": {},
   "outputs": [
    {
     "name": "stdout",
     "output_type": "stream",
     "text": [
      "\u001b[36malgo-1-of4bl_1  |\u001b[0m 172.18.0.1 - - [11/Jun/2020:09:55:35 +0000] \"POST /invocations HTTP/1.1\" 200 1545 \"-\" \"-\"\n",
      "{'predictions': [[1.6250998e-06, 5.69570329e-06, 0.000914974, 0.00155286631, 1.88268823e-09, 6.38166466e-06, 2.59566e-13, 0.997230113, 2.05731176e-05, 0.000267799303], [0.000430175656, 0.000334147015, 0.99428308, 0.0031160349, 7.56268079e-08, 0.00013240079, 0.000278680702, 1.24502867e-05, 0.00141286606, 2.046704e-07], [8.40249777e-06, 0.993738532, 0.00311106304, 5.743988e-05, 2.39667315e-05, 4.37179369e-06, 9.44285875e-06, 0.000271883298, 0.00266735628, 0.000107585205], [0.99078244, 1.35788611e-07, 0.00729449792, 0.000137374664, 8.35941e-08, 0.000570103817, 0.000277506537, 0.000847386196, 3.28180868e-05, 5.75453814e-05], [2.95738664e-05, 0.000824273331, 0.00119698176, 0.00421485258, 0.87164259, 0.00131979852, 4.11081492e-05, 0.0122722872, 0.00092525885, 0.107533351], [4.82327948e-07, 0.997354031, 0.00114267971, 2.04360058e-05, 1.04886749e-06, 3.37124618e-07, 9.87637279e-08, 0.000164702025, 0.00128856208, 2.76120736e-05], [8.77058919e-05, 7.49665342e-05, 0.000185747398, 0.00563650066, 0.749536097, 0.125174522, 0.000191884872, 0.000982545083, 0.0163024496, 0.101827562], [2.07562402e-06, 0.003658765, 0.000189383747, 0.00535945082, 0.0258736908, 0.000458083494, 1.17636638e-07, 0.0305084437, 0.00176363473, 0.932186365], [0.00616173306, 0.000354988297, 0.00936517771, 0.00444656285, 0.473909914, 0.174180523, 0.312638879, 0.00215545692, 0.012351457, 0.00443538371], [1.97465546e-08, 0.000198657028, 2.37960285e-06, 0.00020642273, 0.0110167805, 2.5424848e-05, 6.34086395e-10, 0.00541011244, 9.88474712e-05, 0.983041286]]}\n"
     ]
    }
   ],
   "source": [
    "result = local_tf_predictor.predict(test_set[0][:10]/255)\n",
    "\n",
    "print(result)"
   ]
  },
  {
   "cell_type": "markdown",
   "metadata": {},
   "source": [
    "#### 2.4、清理本地部署"
   ]
  },
  {
   "cell_type": "code",
   "execution_count": 20,
   "metadata": {},
   "outputs": [
    {
     "name": "stdout",
     "output_type": "stream",
     "text": [
      "Gracefully stopping... (press Ctrl+C again to force)\n"
     ]
    }
   ],
   "source": [
    "local_tf_predictor.delete_endpoint()"
   ]
  },
  {
   "cell_type": "markdown",
   "metadata": {},
   "source": [
    "在sagemaker上进行训练，这个过程跟本地没有区别\n",
    "\n",
    "在这里多了一个metric_definitions参数，其中定义了要监控的训练算法的性能指标，这里举了一个例子‘accuracy‘，这个指标是训练算法通过print打到stdout上的，sagemaker通过正则匹配的方式解析训练容器的日志，然后把这个指标打到cloudwatch上"
   ]
  },
  {
   "cell_type": "markdown",
   "metadata": {},
   "source": [
    "#### 2.5、在Sagemaker上训练模型"
   ]
  },
  {
   "cell_type": "code",
   "execution_count": 21,
   "metadata": {},
   "outputs": [],
   "source": [
    "model_dir = '/opt/ml/model'\n",
    "# train_instance_type = 'local'\n",
    "train_instance_type = 'ml.m5.xlarge'\n",
    "hyperparameters = {'epochs': 1, 'batch_size': 128, 'learning_rate': 0.01, 'other_para':0.1}\n",
    "# 如果需要监控训练算法中某一个指标，可以定义metric_definitions并传入Tensorflow estimator，被监控的metrics会被解析并打到cloudwatch\n",
    "metric_definitions = [{'Name': 'accuracy',\n",
    "                       'Regex': 'accuracy=(.*?);'}]\n",
    "\n",
    "tf_estimator = TensorFlow(\n",
    "                       entry_point='my_train_1.py',\n",
    "                       model_dir=model_dir,\n",
    "                       output_path=s3_output_location,\n",
    "                       train_instance_type=train_instance_type,\n",
    "                       train_instance_count=1,\n",
    "                       hyperparameters=hyperparameters,\n",
    "                       role=sagemaker.get_execution_role(),\n",
    "                       base_job_name='tf-scriptmode-mnist',\n",
    "                       framework_version='2.0.0',\n",
    "                       py_version='py3',\n",
    "                       metric_definitions=metric_definitions,\n",
    "                       script_mode=True,)"
   ]
  },
  {
   "cell_type": "code",
   "execution_count": 22,
   "metadata": {},
   "outputs": [
    {
     "name": "stdout",
     "output_type": "stream",
     "text": [
      "2020-06-11 09:56:54 Starting - Starting the training job...\n",
      "2020-06-11 09:56:56 Starting - Launching requested ML instances.........\n",
      "2020-06-11 09:58:26 Starting - Preparing the instances for training...\n",
      "2020-06-11 09:58:58 Downloading - Downloading input data...\n",
      "2020-06-11 09:59:38 Training - Training image download completed. Training in progress.\u001b[34m2020-06-11 09:59:42,336 sagemaker-containers INFO     Imported framework sagemaker_tensorflow_container.training\u001b[0m\n",
      "\u001b[34m2020-06-11 09:59:42,341 sagemaker-containers INFO     No GPUs detected (normal if no gpus installed)\u001b[0m\n",
      "\u001b[34m2020-06-11 09:59:42,642 sagemaker-containers INFO     No GPUs detected (normal if no gpus installed)\u001b[0m\n",
      "\u001b[34m2020-06-11 09:59:42,657 sagemaker-containers INFO     No GPUs detected (normal if no gpus installed)\u001b[0m\n",
      "\u001b[34m2020-06-11 09:59:42,673 sagemaker-containers INFO     No GPUs detected (normal if no gpus installed)\u001b[0m\n",
      "\u001b[34m2020-06-11 09:59:42,684 sagemaker-containers INFO     Invoking user script\n",
      "\u001b[0m\n",
      "\u001b[34mTraining Env:\n",
      "\u001b[0m\n",
      "\u001b[34m{\n",
      "    \"additional_framework_parameters\": {},\n",
      "    \"channel_input_dirs\": {\n",
      "        \"validation\": \"/opt/ml/input/data/validation\",\n",
      "        \"train\": \"/opt/ml/input/data/train\"\n",
      "    },\n",
      "    \"current_host\": \"algo-1\",\n",
      "    \"framework_module\": \"sagemaker_tensorflow_container.training:main\",\n",
      "    \"hosts\": [\n",
      "        \"algo-1\"\n",
      "    ],\n",
      "    \"hyperparameters\": {\n",
      "        \"batch_size\": 128,\n",
      "        \"model_dir\": \"/opt/ml/model\",\n",
      "        \"epochs\": 1,\n",
      "        \"learning_rate\": 0.01,\n",
      "        \"other_para\": 0.1\n",
      "    },\n",
      "    \"input_config_dir\": \"/opt/ml/input/config\",\n",
      "    \"input_data_config\": {\n",
      "        \"validation\": {\n",
      "            \"TrainingInputMode\": \"File\",\n",
      "            \"S3DistributionType\": \"FullyReplicated\",\n",
      "            \"RecordWrapperType\": \"None\"\n",
      "        },\n",
      "        \"train\": {\n",
      "            \"TrainingInputMode\": \"File\",\n",
      "            \"S3DistributionType\": \"FullyReplicated\",\n",
      "            \"RecordWrapperType\": \"None\"\n",
      "        }\n",
      "    },\n",
      "    \"input_dir\": \"/opt/ml/input\",\n",
      "    \"is_master\": true,\n",
      "    \"job_name\": \"tf-scriptmode-mnist-2020-06-11-09-56-54-608\",\n",
      "    \"log_level\": 20,\n",
      "    \"master_hostname\": \"algo-1\",\n",
      "    \"model_dir\": \"/opt/ml/model\",\n",
      "    \"module_dir\": \"s3://sagemaker-mnist-datasets/tf-scriptmode-mnist-2020-06-11-09-56-54-608/source/sourcedir.tar.gz\",\n",
      "    \"module_name\": \"my_train_1\",\n",
      "    \"network_interface_name\": \"eth0\",\n",
      "    \"num_cpus\": 4,\n",
      "    \"num_gpus\": 0,\n",
      "    \"output_data_dir\": \"/opt/ml/output/data\",\n",
      "    \"output_dir\": \"/opt/ml/output\",\n",
      "    \"output_intermediate_dir\": \"/opt/ml/output/intermediate\",\n",
      "    \"resource_config\": {\n",
      "        \"current_host\": \"algo-1\",\n",
      "        \"hosts\": [\n",
      "            \"algo-1\"\n",
      "        ],\n",
      "        \"network_interface_name\": \"eth0\"\n",
      "    },\n",
      "    \"user_entry_point\": \"my_train_1.py\"\u001b[0m\n",
      "\u001b[34m}\n",
      "\u001b[0m\n",
      "\u001b[34mEnvironment variables:\n",
      "\u001b[0m\n",
      "\u001b[34mSM_HOSTS=[\"algo-1\"]\u001b[0m\n",
      "\u001b[34mSM_NETWORK_INTERFACE_NAME=eth0\u001b[0m\n",
      "\u001b[34mSM_HPS={\"batch_size\":128,\"epochs\":1,\"learning_rate\":0.01,\"model_dir\":\"/opt/ml/model\",\"other_para\":0.1}\u001b[0m\n",
      "\u001b[34mSM_USER_ENTRY_POINT=my_train_1.py\u001b[0m\n",
      "\u001b[34mSM_FRAMEWORK_PARAMS={}\u001b[0m\n",
      "\u001b[34mSM_RESOURCE_CONFIG={\"current_host\":\"algo-1\",\"hosts\":[\"algo-1\"],\"network_interface_name\":\"eth0\"}\u001b[0m\n",
      "\u001b[34mSM_INPUT_DATA_CONFIG={\"train\":{\"RecordWrapperType\":\"None\",\"S3DistributionType\":\"FullyReplicated\",\"TrainingInputMode\":\"File\"},\"validation\":{\"RecordWrapperType\":\"None\",\"S3DistributionType\":\"FullyReplicated\",\"TrainingInputMode\":\"File\"}}\u001b[0m\n",
      "\u001b[34mSM_OUTPUT_DATA_DIR=/opt/ml/output/data\u001b[0m\n",
      "\u001b[34mSM_CHANNELS=[\"train\",\"validation\"]\u001b[0m\n",
      "\u001b[34mSM_CURRENT_HOST=algo-1\u001b[0m\n",
      "\u001b[34mSM_MODULE_NAME=my_train_1\u001b[0m\n",
      "\u001b[34mSM_LOG_LEVEL=20\u001b[0m\n",
      "\u001b[34mSM_FRAMEWORK_MODULE=sagemaker_tensorflow_container.training:main\u001b[0m\n",
      "\u001b[34mSM_INPUT_DIR=/opt/ml/input\u001b[0m\n",
      "\u001b[34mSM_INPUT_CONFIG_DIR=/opt/ml/input/config\u001b[0m\n",
      "\u001b[34mSM_OUTPUT_DIR=/opt/ml/output\u001b[0m\n",
      "\u001b[34mSM_NUM_CPUS=4\u001b[0m\n",
      "\u001b[34mSM_NUM_GPUS=0\u001b[0m\n",
      "\u001b[34mSM_MODEL_DIR=/opt/ml/model\u001b[0m\n",
      "\u001b[34mSM_MODULE_DIR=s3://sagemaker-mnist-datasets/tf-scriptmode-mnist-2020-06-11-09-56-54-608/source/sourcedir.tar.gz\u001b[0m\n",
      "\u001b[34mSM_TRAINING_ENV={\"additional_framework_parameters\":{},\"channel_input_dirs\":{\"train\":\"/opt/ml/input/data/train\",\"validation\":\"/opt/ml/input/data/validation\"},\"current_host\":\"algo-1\",\"framework_module\":\"sagemaker_tensorflow_container.training:main\",\"hosts\":[\"algo-1\"],\"hyperparameters\":{\"batch_size\":128,\"epochs\":1,\"learning_rate\":0.01,\"model_dir\":\"/opt/ml/model\",\"other_para\":0.1},\"input_config_dir\":\"/opt/ml/input/config\",\"input_data_config\":{\"train\":{\"RecordWrapperType\":\"None\",\"S3DistributionType\":\"FullyReplicated\",\"TrainingInputMode\":\"File\"},\"validation\":{\"RecordWrapperType\":\"None\",\"S3DistributionType\":\"FullyReplicated\",\"TrainingInputMode\":\"File\"}},\"input_dir\":\"/opt/ml/input\",\"is_master\":true,\"job_name\":\"tf-scriptmode-mnist-2020-06-11-09-56-54-608\",\"log_level\":20,\"master_hostname\":\"algo-1\",\"model_dir\":\"/opt/ml/model\",\"module_dir\":\"s3://sagemaker-mnist-datasets/tf-scriptmode-mnist-2020-06-11-09-56-54-608/source/sourcedir.tar.gz\",\"module_name\":\"my_train_1\",\"network_interface_name\":\"eth0\",\"num_cpus\":4,\"num_gpus\":0,\"output_data_dir\":\"/opt/ml/output/data\",\"output_dir\":\"/opt/ml/output\",\"output_intermediate_dir\":\"/opt/ml/output/intermediate\",\"resource_config\":{\"current_host\":\"algo-1\",\"hosts\":[\"algo-1\"],\"network_interface_name\":\"eth0\"},\"user_entry_point\":\"my_train_1.py\"}\u001b[0m\n",
      "\u001b[34mSM_USER_ARGS=[\"--batch_size\",\"128\",\"--epochs\",\"1\",\"--learning_rate\",\"0.01\",\"--model_dir\",\"/opt/ml/model\",\"--other_para\",\"0.1\"]\u001b[0m\n",
      "\u001b[34mSM_OUTPUT_INTERMEDIATE_DIR=/opt/ml/output/intermediate\u001b[0m\n",
      "\u001b[34mSM_CHANNEL_VALIDATION=/opt/ml/input/data/validation\u001b[0m\n",
      "\u001b[34mSM_CHANNEL_TRAIN=/opt/ml/input/data/train\u001b[0m\n",
      "\u001b[34mSM_HP_BATCH_SIZE=128\u001b[0m\n",
      "\u001b[34mSM_HP_MODEL_DIR=/opt/ml/model\u001b[0m\n",
      "\u001b[34mSM_HP_EPOCHS=1\u001b[0m\n",
      "\u001b[34mSM_HP_LEARNING_RATE=0.01\u001b[0m\n",
      "\u001b[34mSM_HP_OTHER_PARA=0.1\u001b[0m\n",
      "\u001b[34mPYTHONPATH=/opt/ml/code:/usr/local/bin:/usr/lib/python36.zip:/usr/lib/python3.6:/usr/lib/python3.6/lib-dynload:/usr/local/lib/python3.6/dist-packages:/usr/lib/python3/dist-packages\n",
      "\u001b[0m\n",
      "\u001b[34mInvoking script with the following command:\n",
      "\u001b[0m\n",
      "\u001b[34m/usr/bin/python3 my_train_1.py --batch_size 128 --epochs 1 --learning_rate 0.01 --model_dir /opt/ml/model --other_para 0.1\n",
      "\n",
      "\u001b[0m\n",
      "\u001b[34mModel: \"sequential\"\u001b[0m\n",
      "\u001b[34m_________________________________________________________________\u001b[0m\n",
      "\u001b[34mLayer (type)                 Output Shape              Param #   \u001b[0m\n",
      "\u001b[34m=================================================================\u001b[0m\n",
      "\u001b[34mdense (Dense)                (None, 256)               200960    \u001b[0m\n",
      "\u001b[34m_________________________________________________________________\u001b[0m\n",
      "\u001b[34mdense_1 (Dense)              (None, 128)               32896     \u001b[0m\n",
      "\u001b[34m_________________________________________________________________\u001b[0m\n",
      "\u001b[34mdense_2 (Dense)              (None, 64)                8256      \u001b[0m\n",
      "\u001b[34m_________________________________________________________________\u001b[0m\n",
      "\u001b[34mdense_3 (Dense)              (None, 32)                2080      \u001b[0m\n",
      "\u001b[34m_________________________________________________________________\u001b[0m\n",
      "\u001b[34mdense_4 (Dense)              (None, 10)                330       \u001b[0m\n",
      "\u001b[34m=================================================================\u001b[0m\n",
      "\u001b[34mTotal params: 244,522\u001b[0m\n",
      "\u001b[34mTrainable params: 244,522\u001b[0m\n",
      "\u001b[34mNon-trainable params: 0\u001b[0m\n",
      "\u001b[34m_________________________________________________________________\u001b[0m\n",
      "\u001b[34mtrain dataset x shape (128, 784), train dataset y shape (128,)\u001b[0m\n",
      "\u001b[34mepoch:0#011 step:0#011 loss_mse:0.09000089764595032#011 loss_ce:2.3026299476623535#011\u001b[0m\n",
      "\u001b[34mepoch:0#011 step:100#011 loss_mse:0.04217133671045303#011 loss_ce:0.8916746377944946#011\u001b[0m\n",
      "\u001b[34mepoch:0#011 step:200#011 loss_mse:0.02583061158657074#011 loss_ce:0.537619948387146#011\u001b[0m\n",
      "\u001b[34mepoch:0#011 step:300#011 loss_mse:0.018139634281396866#011 loss_ce:0.40055352449417114#011\u001b[0m\n",
      "\u001b[34maccuracy=0.8989;\u001b[0m\n",
      "\u001b[34mWARNING:tensorflow:From /usr/local/lib/python3.6/dist-packages/tensorflow_core/python/ops/resource_variable_ops.py:1781: calling BaseResourceVariable.__init__ (from tensorflow.python.ops.resource_variable_ops) with constraint is deprecated and will be removed in a future version.\u001b[0m\n",
      "\u001b[34mInstructions for updating:\u001b[0m\n",
      "\u001b[34mIf using Keras pass *_constraint arguments to layers.\u001b[0m\n",
      "\u001b[34m2020-06-11 10:00:28,478 sagemaker-containers INFO     Reporting training SUCCESS\u001b[0m\n",
      "\n",
      "2020-06-11 10:00:37 Uploading - Uploading generated training model\n",
      "2020-06-11 10:00:37 Completed - Training job completed\n",
      "Training seconds: 99\n",
      "Billable seconds: 99\n",
      "CPU times: user 436 ms, sys: 39 ms, total: 475 ms\n",
      "Wall time: 4min 12s\n"
     ]
    }
   ],
   "source": [
    "%%time\n",
    "tf_estimator.fit(inputs=data_channels)"
   ]
  },
  {
   "cell_type": "markdown",
   "metadata": {},
   "source": [
    "#### 2.6、在Sagemaker上部署"
   ]
  },
  {
   "cell_type": "code",
   "execution_count": 23,
   "metadata": {},
   "outputs": [
    {
     "name": "stdout",
     "output_type": "stream",
     "text": [
      "-----------!"
     ]
    }
   ],
   "source": [
    "tf_predictor = tf_estimator.deploy(initial_instance_count=1,instance_type='ml.m5.xlarge')"
   ]
  },
  {
   "cell_type": "markdown",
   "metadata": {},
   "source": [
    "deploy之后会返回一个predictor，这个predictor可以直接进行模型的推理\n",
    "\n",
    "验证一下测试数据集的预测结果和真实label的对比\n",
    "\n",
    "通过np.argmax方法得到一个softmax后的输出的预测结果"
   ]
  },
  {
   "cell_type": "markdown",
   "metadata": {},
   "source": [
    "#### 2.7、验证推理结果"
   ]
  },
  {
   "cell_type": "code",
   "execution_count": 24,
   "metadata": {},
   "outputs": [
    {
     "name": "stdout",
     "output_type": "stream",
     "text": [
      "predictions: \t[7, 2, 1, 0, 4, 1, 4, 9, 6, 9]\n",
      "target values: \t[7, 2, 1, 0, 4, 1, 4, 9, 5, 9]\n"
     ]
    }
   ],
   "source": [
    "import numpy as np\n",
    "# 从predictor获取预测结果\n",
    "results = tf_predictor.predict(test_set[0][:10]/255)['predictions']\n",
    "# 预测结果是一个组one-hot结果，需要获得confidence最高的那个index作为预测结果\n",
    "final_result_list = [np.argmax(sublist) for sublist in results]\n",
    "# 分别打印预测结果和test数据进行对比\n",
    "print('predictions: \\t{}'.format(final_result_list))\n",
    "print('target values: \\t{}'.format(list(test_set[1][:10])))"
   ]
  },
  {
   "cell_type": "markdown",
   "metadata": {},
   "source": [
    "#### 2.8、清理部署"
   ]
  },
  {
   "cell_type": "code",
   "execution_count": 17,
   "metadata": {},
   "outputs": [],
   "source": [
    "tf_predictor.delete_endpoint()"
   ]
  },
  {
   "cell_type": "markdown",
   "metadata": {},
   "source": [
    "有关git的配置可以参考sagemaker的源码：https://github.com/aws/sagemaker-python-sdk/blob/8801faf56a87afdb5f8412753be7dff42be8b99a/src/sagemaker/estimator.py#L1389\n",
    "\n",
    "git_config参数需要按照字典的方式组织：\n",
    "\n",
    "git_config = {'repo': 'https://github.com/xzy0223/sagemaker-test.git',\n",
    "              'branch': 'master'}\n",
    "              \n",
    "如果在repo 中有其他需要依赖的模块，可以指明source_dir参数，这个参数可以是相对路径，绝对路径和s3地址，如果指定了git_config，那么可以通过指定source_dir把整个路径下的文件copy到容器的/opt/ml/code中；source_dir当然也可以是本地路径\n",
    "\n",
    "然后在指明source_dir路径中的entry_point"
   ]
  },
  {
   "cell_type": "code",
   "execution_count": null,
   "metadata": {},
   "outputs": [],
   "source": [
    "model_dir = '/opt/ml/model'\n",
    "git_config = {'repo': 'https://github.com/xzy0223/sagemaker-test.git',\n",
    "              'branch': 'master'}\n",
    "train_instance_type = 'ml.m5.xlarge'\n",
    "hyperparameters = {'epochs': 1, 'batch_size': 128, 'learning_rate': 0.01, 'other_para':0.1}\n",
    "tf_estimator = TensorFlow(\n",
    "                       git_config=git_config,\n",
    "                       entry_point='my_train.py',\n",
    "                       source_dir='script_model',\n",
    "                       model_dir=model_dir,\n",
    "                       output_path=s3_output_location,\n",
    "                       train_instance_type=train_instance_type,\n",
    "                       train_instance_count=1,\n",
    "                       hyperparameters=hyperparameters,\n",
    "                       role=sagemaker.get_execution_role(),\n",
    "                       base_job_name='tf-scriptmode-mnist',\n",
    "                       framework_version='2.0.0',\n",
    "                       py_version='py3',\n",
    "                       script_mode=True)"
   ]
  },
  {
   "cell_type": "code",
   "execution_count": 25,
   "metadata": {},
   "outputs": [
    {
     "name": "stdout",
     "output_type": "stream",
     "text": [
      "2020-02-27 12:33:55 Starting - Starting the training job...\n",
      "2020-02-27 12:33:57 Starting - Launching requested ML instances...\n",
      "2020-02-27 12:34:53 Starting - Preparing the instances for training......\n",
      "2020-02-27 12:35:32 Downloading - Downloading input data...\n",
      "2020-02-27 12:36:12 Training - Training image download completed. Training in progress.\u001b[34m2020-02-27 12:36:15,589 sagemaker-containers INFO     Imported framework sagemaker_tensorflow_container.training\u001b[0m\n",
      "\u001b[34m2020-02-27 12:36:15,595 sagemaker-containers INFO     No GPUs detected (normal if no gpus installed)\u001b[0m\n",
      "\u001b[34m2020-02-27 12:36:15,846 sagemaker-containers INFO     No GPUs detected (normal if no gpus installed)\u001b[0m\n",
      "\u001b[34m2020-02-27 12:36:15,860 sagemaker-containers INFO     No GPUs detected (normal if no gpus installed)\u001b[0m\n",
      "\u001b[34m2020-02-27 12:36:15,875 sagemaker-containers INFO     No GPUs detected (normal if no gpus installed)\u001b[0m\n",
      "\u001b[34m2020-02-27 12:36:15,885 sagemaker-containers INFO     Invoking user script\n",
      "\u001b[0m\n",
      "\u001b[34mTraining Env:\n",
      "\u001b[0m\n",
      "\u001b[34m{\n",
      "    \"additional_framework_parameters\": {},\n",
      "    \"channel_input_dirs\": {\n",
      "        \"validation\": \"/opt/ml/input/data/validation\",\n",
      "        \"train\": \"/opt/ml/input/data/train\"\n",
      "    },\n",
      "    \"current_host\": \"algo-1\",\n",
      "    \"framework_module\": \"sagemaker_tensorflow_container.training:main\",\n",
      "    \"hosts\": [\n",
      "        \"algo-1\"\n",
      "    ],\n",
      "    \"hyperparameters\": {\n",
      "        \"batch_size\": 128,\n",
      "        \"model_dir\": \"/opt/ml/model\",\n",
      "        \"epochs\": 1,\n",
      "        \"learning_rate\": 0.01,\n",
      "        \"other_para\": 0.1\n",
      "    },\n",
      "    \"input_config_dir\": \"/opt/ml/input/config\",\n",
      "    \"input_data_config\": {\n",
      "        \"validation\": {\n",
      "            \"TrainingInputMode\": \"File\",\n",
      "            \"S3DistributionType\": \"FullyReplicated\",\n",
      "            \"RecordWrapperType\": \"None\"\n",
      "        },\n",
      "        \"train\": {\n",
      "            \"TrainingInputMode\": \"File\",\n",
      "            \"S3DistributionType\": \"FullyReplicated\",\n",
      "            \"RecordWrapperType\": \"None\"\n",
      "        }\n",
      "    },\n",
      "    \"input_dir\": \"/opt/ml/input\",\n",
      "    \"is_master\": true,\n",
      "    \"job_name\": \"tf-scriptmode-mnist-2020-02-27-12-33-55-342\",\n",
      "    \"log_level\": 20,\n",
      "    \"master_hostname\": \"algo-1\",\n",
      "    \"model_dir\": \"/opt/ml/model\",\n",
      "    \"module_dir\": \"s3://sagemaker-mnist-datasets/tf-scriptmode-mnist-2020-02-27-12-33-55-342/source/sourcedir.tar.gz\",\n",
      "    \"module_name\": \"my_train\",\n",
      "    \"network_interface_name\": \"eth0\",\n",
      "    \"num_cpus\": 4,\n",
      "    \"num_gpus\": 0,\n",
      "    \"output_data_dir\": \"/opt/ml/output/data\",\n",
      "    \"output_dir\": \"/opt/ml/output\",\n",
      "    \"output_intermediate_dir\": \"/opt/ml/output/intermediate\",\n",
      "    \"resource_config\": {\n",
      "        \"current_host\": \"algo-1\",\n",
      "        \"hosts\": [\n",
      "            \"algo-1\"\n",
      "        ],\n",
      "        \"network_interface_name\": \"eth0\"\n",
      "    },\n",
      "    \"user_entry_point\": \"my_train.py\"\u001b[0m\n",
      "\u001b[34m}\n",
      "\u001b[0m\n",
      "\u001b[34mEnvironment variables:\n",
      "\u001b[0m\n",
      "\u001b[34mSM_HOSTS=[\"algo-1\"]\u001b[0m\n",
      "\u001b[34mSM_NETWORK_INTERFACE_NAME=eth0\u001b[0m\n",
      "\u001b[34mSM_HPS={\"batch_size\":128,\"epochs\":1,\"learning_rate\":0.01,\"model_dir\":\"/opt/ml/model\",\"other_para\":0.1}\u001b[0m\n",
      "\u001b[34mSM_USER_ENTRY_POINT=my_train.py\u001b[0m\n",
      "\u001b[34mSM_FRAMEWORK_PARAMS={}\u001b[0m\n",
      "\u001b[34mSM_RESOURCE_CONFIG={\"current_host\":\"algo-1\",\"hosts\":[\"algo-1\"],\"network_interface_name\":\"eth0\"}\u001b[0m\n",
      "\u001b[34mSM_INPUT_DATA_CONFIG={\"train\":{\"RecordWrapperType\":\"None\",\"S3DistributionType\":\"FullyReplicated\",\"TrainingInputMode\":\"File\"},\"validation\":{\"RecordWrapperType\":\"None\",\"S3DistributionType\":\"FullyReplicated\",\"TrainingInputMode\":\"File\"}}\u001b[0m\n",
      "\u001b[34mSM_OUTPUT_DATA_DIR=/opt/ml/output/data\u001b[0m\n",
      "\u001b[34mSM_CHANNELS=[\"train\",\"validation\"]\u001b[0m\n",
      "\u001b[34mSM_CURRENT_HOST=algo-1\u001b[0m\n",
      "\u001b[34mSM_MODULE_NAME=my_train\u001b[0m\n",
      "\u001b[34mSM_LOG_LEVEL=20\u001b[0m\n",
      "\u001b[34mSM_FRAMEWORK_MODULE=sagemaker_tensorflow_container.training:main\u001b[0m\n",
      "\u001b[34mSM_INPUT_DIR=/opt/ml/input\u001b[0m\n",
      "\u001b[34mSM_INPUT_CONFIG_DIR=/opt/ml/input/config\u001b[0m\n",
      "\u001b[34mSM_OUTPUT_DIR=/opt/ml/output\u001b[0m\n",
      "\u001b[34mSM_NUM_CPUS=4\u001b[0m\n",
      "\u001b[34mSM_NUM_GPUS=0\u001b[0m\n",
      "\u001b[34mSM_MODEL_DIR=/opt/ml/model\u001b[0m\n",
      "\u001b[34mSM_MODULE_DIR=s3://sagemaker-mnist-datasets/tf-scriptmode-mnist-2020-02-27-12-33-55-342/source/sourcedir.tar.gz\u001b[0m\n",
      "\u001b[34mSM_TRAINING_ENV={\"additional_framework_parameters\":{},\"channel_input_dirs\":{\"train\":\"/opt/ml/input/data/train\",\"validation\":\"/opt/ml/input/data/validation\"},\"current_host\":\"algo-1\",\"framework_module\":\"sagemaker_tensorflow_container.training:main\",\"hosts\":[\"algo-1\"],\"hyperparameters\":{\"batch_size\":128,\"epochs\":1,\"learning_rate\":0.01,\"model_dir\":\"/opt/ml/model\",\"other_para\":0.1},\"input_config_dir\":\"/opt/ml/input/config\",\"input_data_config\":{\"train\":{\"RecordWrapperType\":\"None\",\"S3DistributionType\":\"FullyReplicated\",\"TrainingInputMode\":\"File\"},\"validation\":{\"RecordWrapperType\":\"None\",\"S3DistributionType\":\"FullyReplicated\",\"TrainingInputMode\":\"File\"}},\"input_dir\":\"/opt/ml/input\",\"is_master\":true,\"job_name\":\"tf-scriptmode-mnist-2020-02-27-12-33-55-342\",\"log_level\":20,\"master_hostname\":\"algo-1\",\"model_dir\":\"/opt/ml/model\",\"module_dir\":\"s3://sagemaker-mnist-datasets/tf-scriptmode-mnist-2020-02-27-12-33-55-342/source/sourcedir.tar.gz\",\"module_name\":\"my_train\",\"network_interface_name\":\"eth0\",\"num_cpus\":4,\"num_gpus\":0,\"output_data_dir\":\"/opt/ml/output/data\",\"output_dir\":\"/opt/ml/output\",\"output_intermediate_dir\":\"/opt/ml/output/intermediate\",\"resource_config\":{\"current_host\":\"algo-1\",\"hosts\":[\"algo-1\"],\"network_interface_name\":\"eth0\"},\"user_entry_point\":\"my_train.py\"}\u001b[0m\n",
      "\u001b[34mSM_USER_ARGS=[\"--batch_size\",\"128\",\"--epochs\",\"1\",\"--learning_rate\",\"0.01\",\"--model_dir\",\"/opt/ml/model\",\"--other_para\",\"0.1\"]\u001b[0m\n",
      "\u001b[34mSM_OUTPUT_INTERMEDIATE_DIR=/opt/ml/output/intermediate\u001b[0m\n",
      "\u001b[34mSM_CHANNEL_VALIDATION=/opt/ml/input/data/validation\u001b[0m\n",
      "\u001b[34mSM_CHANNEL_TRAIN=/opt/ml/input/data/train\u001b[0m\n",
      "\u001b[34mSM_HP_BATCH_SIZE=128\u001b[0m\n",
      "\u001b[34mSM_HP_MODEL_DIR=/opt/ml/model\u001b[0m\n",
      "\u001b[34mSM_HP_EPOCHS=1\u001b[0m\n",
      "\u001b[34mSM_HP_LEARNING_RATE=0.01\u001b[0m\n",
      "\u001b[34mSM_HP_OTHER_PARA=0.1\u001b[0m\n",
      "\u001b[34mPYTHONPATH=/opt/ml/code:/usr/local/bin:/usr/lib/python36.zip:/usr/lib/python3.6:/usr/lib/python3.6/lib-dynload:/usr/local/lib/python3.6/dist-packages:/usr/lib/python3/dist-packages\n",
      "\u001b[0m\n",
      "\u001b[34mInvoking script with the following command:\n",
      "\u001b[0m\n",
      "\u001b[34m/usr/bin/python3 my_train.py --batch_size 128 --epochs 1 --learning_rate 0.01 --model_dir /opt/ml/model --other_para 0.1\n",
      "\n",
      "\u001b[0m\n",
      "\u001b[34mthis is a signal from hello model\u001b[0m\n",
      "\u001b[34mModel: \"sequential\"\u001b[0m\n",
      "\u001b[34m_________________________________________________________________\u001b[0m\n",
      "\u001b[34mLayer (type)                 Output Shape              Param #   \u001b[0m\n",
      "\u001b[34m=================================================================\u001b[0m\n",
      "\u001b[34mdense (Dense)                (None, 256)               200960    \u001b[0m\n",
      "\u001b[34m_________________________________________________________________\u001b[0m\n",
      "\u001b[34mdense_1 (Dense)              (None, 128)               32896     \u001b[0m\n",
      "\u001b[34m_________________________________________________________________\u001b[0m\n",
      "\u001b[34mdense_2 (Dense)              (None, 64)                8256      \u001b[0m\n",
      "\u001b[34m_________________________________________________________________\u001b[0m\n",
      "\u001b[34mdense_3 (Dense)              (None, 32)                2080      \u001b[0m\n",
      "\u001b[34m_________________________________________________________________\u001b[0m\n",
      "\u001b[34mdense_4 (Dense)              (None, 10)                330       \u001b[0m\n",
      "\u001b[34m=================================================================\u001b[0m\n",
      "\u001b[34mTotal params: 244,522\u001b[0m\n",
      "\u001b[34mTrainable params: 244,522\u001b[0m\n",
      "\u001b[34mNon-trainable params: 0\u001b[0m\n",
      "\u001b[34m_________________________________________________________________\u001b[0m\n",
      "\u001b[34mtrain dataset x shape (128, 784), train dataset y shape (128,)\u001b[0m\n",
      "\u001b[34mepoch:0#011 step:0#011 loss_mse:0.08999742567539215#011 loss_ce:2.3024563789367676#011\u001b[0m\n",
      "\u001b[34mepoch:0#011 step:100#011 loss_mse:0.0304810032248497#011 loss_ce:0.6261601448059082#011\u001b[0m\n",
      "\u001b[34mepoch:0#011 step:200#011 loss_mse:0.02180158719420433#011 loss_ce:0.4651241898536682#011\u001b[0m\n",
      "\u001b[34mepoch:0#011 step:300#011 loss_mse:0.017857352271676064#011 loss_ce:0.41096174716949463#011\u001b[0m\n",
      "\u001b[34maccuracy=0.9148;\u001b[0m\n",
      "\u001b[34mWARNING:tensorflow:From /usr/local/lib/python3.6/dist-packages/tensorflow_core/python/ops/resource_variable_ops.py:1781: calling BaseResourceVariable.__init__ (from tensorflow.python.ops.resource_variable_ops) with constraint is deprecated and will be removed in a future version.\u001b[0m\n",
      "\u001b[34mInstructions for updating:\u001b[0m\n",
      "\u001b[34mIf using Keras pass *_constraint arguments to layers.\u001b[0m\n",
      "\u001b[34m2020-02-27 12:37:04,021 sagemaker-containers INFO     Reporting training SUCCESS\u001b[0m\n",
      "\n",
      "2020-02-27 12:37:15 Uploading - Uploading generated training model\n",
      "2020-02-27 12:37:15 Completed - Training job completed\n",
      "Training seconds: 103\n",
      "Billable seconds: 103\n"
     ]
    }
   ],
   "source": [
    "tf_estimator.fit(inputs=data_channels)"
   ]
  },
  {
   "cell_type": "markdown",
   "metadata": {},
   "source": [
    "如果有客户对训练和推理的安全性有考虑，那么可以开启network_isolation，一旦开启客户的的训练和推理实例将运行在一个逻辑隔离的环境，训练实例内的容器将无法进行outbound call，甚至无法callAWS的服务，比如S3，而下载S3的数据和上传model文件到S3等操作将由Sagemaker完成；此外如果开启了分布式训练，那么网络通信仅限于训练节点之间"
   ]
  },
  {
   "cell_type": "code",
   "execution_count": 8,
   "metadata": {},
   "outputs": [],
   "source": [
    "model_dir = '/opt/ml/model'\n",
    "# train_instance_type = 'local'\n",
    "train_instance_type = 'ml.m5.xlarge'\n",
    "hyperparameters = {'epochs': 5, 'batch_size': 128, 'learning_rate': 0.01, 'other_para':0.1}\n",
    "\n",
    "# enable network isolation\n",
    "tf_estimator_isolated = TensorFlow(\n",
    "                       entry_point='my_train.py',\n",
    "                       model_dir=model_dir,\n",
    "                       output_path=s3_output_location,\n",
    "                       train_instance_type=train_instance_type,\n",
    "                       train_instance_count=1,\n",
    "                       hyperparameters=hyperparameters,\n",
    "                       role=sagemaker.get_execution_role(),\n",
    "                       base_job_name='tf-scriptmode-mnist',\n",
    "                       framework_version='2.0.0',\n",
    "                       py_version='py3',\n",
    "                       script_mode=True,\n",
    "                       enable_network_isolation=True)"
   ]
  },
  {
   "cell_type": "code",
   "execution_count": 9,
   "metadata": {},
   "outputs": [
    {
     "name": "stdout",
     "output_type": "stream",
     "text": [
      "2020-03-12 11:54:50 Starting - Starting the training job...\n",
      "2020-03-12 11:55:09 Starting - Launching requested ML instances......\n",
      "2020-03-12 11:56:07 Starting - Preparing the instances for training......\n",
      "2020-03-12 11:57:19 Downloading - Downloading input data\n",
      "2020-03-12 11:57:19 Training - Downloading the training image...\n",
      "2020-03-12 11:57:33 Training - Training image download completed. Training in progress.\u001b[34m2020-03-12 11:57:36,243 sagemaker-containers INFO     Imported framework sagemaker_tensorflow_container.training\u001b[0m\n",
      "\u001b[34m2020-03-12 11:57:36,249 sagemaker-containers INFO     No GPUs detected (normal if no gpus installed)\u001b[0m\n",
      "\u001b[34m2020-03-12 11:57:36,271 sagemaker-containers INFO     No GPUs detected (normal if no gpus installed)\u001b[0m\n",
      "\u001b[34m2020-03-12 11:57:37,703 sagemaker-containers INFO     No GPUs detected (normal if no gpus installed)\u001b[0m\n",
      "\u001b[34m2020-03-12 11:57:37,764 sagemaker-containers INFO     No GPUs detected (normal if no gpus installed)\u001b[0m\n",
      "\u001b[34m2020-03-12 11:57:37,773 sagemaker-containers INFO     Invoking user script\n",
      "\u001b[0m\n",
      "\u001b[34mTraining Env:\n",
      "\u001b[0m\n",
      "\u001b[34m{\n",
      "    \"additional_framework_parameters\": {},\n",
      "    \"channel_input_dirs\": {\n",
      "        \"code\": \"/opt/ml/input/data/code\",\n",
      "        \"validation\": \"/opt/ml/input/data/validation\",\n",
      "        \"train\": \"/opt/ml/input/data/train\"\n",
      "    },\n",
      "    \"current_host\": \"algo-1\",\n",
      "    \"framework_module\": \"sagemaker_tensorflow_container.training:main\",\n",
      "    \"hosts\": [\n",
      "        \"algo-1\"\n",
      "    ],\n",
      "    \"hyperparameters\": {\n",
      "        \"batch_size\": 128,\n",
      "        \"model_dir\": \"/opt/ml/model\",\n",
      "        \"epochs\": 5,\n",
      "        \"learning_rate\": 0.01,\n",
      "        \"other_para\": 0.1\n",
      "    },\n",
      "    \"input_config_dir\": \"/opt/ml/input/config\",\n",
      "    \"input_data_config\": {\n",
      "        \"code\": {\n",
      "            \"TrainingInputMode\": \"File\",\n",
      "            \"S3DistributionType\": \"FullyReplicated\",\n",
      "            \"RecordWrapperType\": \"None\"\n",
      "        },\n",
      "        \"validation\": {\n",
      "            \"TrainingInputMode\": \"File\",\n",
      "            \"S3DistributionType\": \"FullyReplicated\",\n",
      "            \"RecordWrapperType\": \"None\"\n",
      "        },\n",
      "        \"train\": {\n",
      "            \"TrainingInputMode\": \"File\",\n",
      "            \"S3DistributionType\": \"FullyReplicated\",\n",
      "            \"RecordWrapperType\": \"None\"\n",
      "        }\n",
      "    },\n",
      "    \"input_dir\": \"/opt/ml/input\",\n",
      "    \"is_master\": true,\n",
      "    \"job_name\": \"tf-scriptmode-mnist-2020-03-12-11-54-50-134\",\n",
      "    \"log_level\": 20,\n",
      "    \"master_hostname\": \"algo-1\",\n",
      "    \"model_dir\": \"/opt/ml/model\",\n",
      "    \"module_dir\": \"/opt/ml/input/data/code/sourcedir.tar.gz\",\n",
      "    \"module_name\": \"my_train\",\n",
      "    \"network_interface_name\": \"eth0\",\n",
      "    \"num_cpus\": 4,\n",
      "    \"num_gpus\": 0,\n",
      "    \"output_data_dir\": \"/opt/ml/output/data\",\n",
      "    \"output_dir\": \"/opt/ml/output\",\n",
      "    \"output_intermediate_dir\": \"/opt/ml/output/intermediate\",\n",
      "    \"resource_config\": {\n",
      "        \"current_host\": \"algo-1\",\n",
      "        \"hosts\": [\n",
      "            \"algo-1\"\n",
      "        ],\n",
      "        \"network_interface_name\": \"eth0\"\n",
      "    },\n",
      "    \"user_entry_point\": \"my_train.py\"\u001b[0m\n",
      "\u001b[34m}\n",
      "\u001b[0m\n",
      "\u001b[34mEnvironment variables:\n",
      "\u001b[0m\n",
      "\u001b[34mSM_HOSTS=[\"algo-1\"]\u001b[0m\n",
      "\u001b[34mSM_NETWORK_INTERFACE_NAME=eth0\u001b[0m\n",
      "\u001b[34mSM_HPS={\"batch_size\":128,\"epochs\":5,\"learning_rate\":0.01,\"model_dir\":\"/opt/ml/model\",\"other_para\":0.1}\u001b[0m\n",
      "\u001b[34mSM_USER_ENTRY_POINT=my_train.py\u001b[0m\n",
      "\u001b[34mSM_FRAMEWORK_PARAMS={}\u001b[0m\n",
      "\u001b[34mSM_RESOURCE_CONFIG={\"current_host\":\"algo-1\",\"hosts\":[\"algo-1\"],\"network_interface_name\":\"eth0\"}\u001b[0m\n",
      "\u001b[34mSM_INPUT_DATA_CONFIG={\"code\":{\"RecordWrapperType\":\"None\",\"S3DistributionType\":\"FullyReplicated\",\"TrainingInputMode\":\"File\"},\"train\":{\"RecordWrapperType\":\"None\",\"S3DistributionType\":\"FullyReplicated\",\"TrainingInputMode\":\"File\"},\"validation\":{\"RecordWrapperType\":\"None\",\"S3DistributionType\":\"FullyReplicated\",\"TrainingInputMode\":\"File\"}}\u001b[0m\n",
      "\u001b[34mSM_OUTPUT_DATA_DIR=/opt/ml/output/data\u001b[0m\n",
      "\u001b[34mSM_CHANNELS=[\"code\",\"train\",\"validation\"]\u001b[0m\n",
      "\u001b[34mSM_CURRENT_HOST=algo-1\u001b[0m\n",
      "\u001b[34mSM_MODULE_NAME=my_train\u001b[0m\n",
      "\u001b[34mSM_LOG_LEVEL=20\u001b[0m\n",
      "\u001b[34mSM_FRAMEWORK_MODULE=sagemaker_tensorflow_container.training:main\u001b[0m\n",
      "\u001b[34mSM_INPUT_DIR=/opt/ml/input\u001b[0m\n",
      "\u001b[34mSM_INPUT_CONFIG_DIR=/opt/ml/input/config\u001b[0m\n",
      "\u001b[34mSM_OUTPUT_DIR=/opt/ml/output\u001b[0m\n",
      "\u001b[34mSM_NUM_CPUS=4\u001b[0m\n",
      "\u001b[34mSM_NUM_GPUS=0\u001b[0m\n",
      "\u001b[34mSM_MODEL_DIR=/opt/ml/model\u001b[0m\n",
      "\u001b[34mSM_MODULE_DIR=/opt/ml/input/data/code/sourcedir.tar.gz\u001b[0m\n",
      "\u001b[34mSM_TRAINING_ENV={\"additional_framework_parameters\":{},\"channel_input_dirs\":{\"code\":\"/opt/ml/input/data/code\",\"train\":\"/opt/ml/input/data/train\",\"validation\":\"/opt/ml/input/data/validation\"},\"current_host\":\"algo-1\",\"framework_module\":\"sagemaker_tensorflow_container.training:main\",\"hosts\":[\"algo-1\"],\"hyperparameters\":{\"batch_size\":128,\"epochs\":5,\"learning_rate\":0.01,\"model_dir\":\"/opt/ml/model\",\"other_para\":0.1},\"input_config_dir\":\"/opt/ml/input/config\",\"input_data_config\":{\"code\":{\"RecordWrapperType\":\"None\",\"S3DistributionType\":\"FullyReplicated\",\"TrainingInputMode\":\"File\"},\"train\":{\"RecordWrapperType\":\"None\",\"S3DistributionType\":\"FullyReplicated\",\"TrainingInputMode\":\"File\"},\"validation\":{\"RecordWrapperType\":\"None\",\"S3DistributionType\":\"FullyReplicated\",\"TrainingInputMode\":\"File\"}},\"input_dir\":\"/opt/ml/input\",\"is_master\":true,\"job_name\":\"tf-scriptmode-mnist-2020-03-12-11-54-50-134\",\"log_level\":20,\"master_hostname\":\"algo-1\",\"model_dir\":\"/opt/ml/model\",\"module_dir\":\"/opt/ml/input/data/code/sourcedir.tar.gz\",\"module_name\":\"my_train\",\"network_interface_name\":\"eth0\",\"num_cpus\":4,\"num_gpus\":0,\"output_data_dir\":\"/opt/ml/output/data\",\"output_dir\":\"/opt/ml/output\",\"output_intermediate_dir\":\"/opt/ml/output/intermediate\",\"resource_config\":{\"current_host\":\"algo-1\",\"hosts\":[\"algo-1\"],\"network_interface_name\":\"eth0\"},\"user_entry_point\":\"my_train.py\"}\u001b[0m\n",
      "\u001b[34mSM_USER_ARGS=[\"--batch_size\",\"128\",\"--epochs\",\"5\",\"--learning_rate\",\"0.01\",\"--model_dir\",\"/opt/ml/model\",\"--other_para\",\"0.1\"]\u001b[0m\n",
      "\u001b[34mSM_OUTPUT_INTERMEDIATE_DIR=/opt/ml/output/intermediate\u001b[0m\n",
      "\u001b[34mSM_CHANNEL_CODE=/opt/ml/input/data/code\u001b[0m\n",
      "\u001b[34mSM_CHANNEL_VALIDATION=/opt/ml/input/data/validation\u001b[0m\n",
      "\u001b[34mSM_CHANNEL_TRAIN=/opt/ml/input/data/train\u001b[0m\n",
      "\u001b[34mSM_HP_BATCH_SIZE=128\u001b[0m\n",
      "\u001b[34mSM_HP_MODEL_DIR=/opt/ml/model\u001b[0m\n",
      "\u001b[34mSM_HP_EPOCHS=5\u001b[0m\n",
      "\u001b[34mSM_HP_LEARNING_RATE=0.01\u001b[0m\n",
      "\u001b[34mSM_HP_OTHER_PARA=0.1\u001b[0m\n",
      "\u001b[34mPYTHONPATH=/opt/ml/code:/usr/local/bin:/usr/lib/python36.zip:/usr/lib/python3.6:/usr/lib/python3.6/lib-dynload:/usr/local/lib/python3.6/dist-packages:/usr/lib/python3/dist-packages\n",
      "\u001b[0m\n",
      "\u001b[34mInvoking script with the following command:\n",
      "\u001b[0m\n",
      "\u001b[34m/usr/bin/python3 my_train.py --batch_size 128 --epochs 5 --learning_rate 0.01 --model_dir /opt/ml/model --other_para 0.1\n",
      "\n",
      "\u001b[0m\n",
      "\u001b[34mModel: \"sequential\"\u001b[0m\n",
      "\u001b[34m_________________________________________________________________\u001b[0m\n",
      "\u001b[34mLayer (type)                 Output Shape              Param #   \u001b[0m\n",
      "\u001b[34m=================================================================\u001b[0m\n",
      "\u001b[34mdense (Dense)                (None, 256)               200960    \u001b[0m\n",
      "\u001b[34m_________________________________________________________________\u001b[0m\n",
      "\u001b[34mdense_1 (Dense)              (None, 128)               32896     \u001b[0m\n",
      "\u001b[34m_________________________________________________________________\u001b[0m\n",
      "\u001b[34mdense_2 (Dense)              (None, 64)                8256      \u001b[0m\n",
      "\u001b[34m_________________________________________________________________\u001b[0m\n",
      "\u001b[34mdense_3 (Dense)              (None, 32)                2080      \u001b[0m\n",
      "\u001b[34m_________________________________________________________________\u001b[0m\n",
      "\u001b[34mdense_4 (Dense)              (None, 10)                330       \u001b[0m\n",
      "\u001b[34m=================================================================\u001b[0m\n",
      "\u001b[34mTotal params: 244,522\u001b[0m\n",
      "\u001b[34mTrainable params: 244,522\u001b[0m\n",
      "\u001b[34mNon-trainable params: 0\u001b[0m\n",
      "\u001b[34m_________________________________________________________________\u001b[0m\n",
      "\u001b[34mtrain dataset x shape (128, 784), train dataset y shape (128,)\u001b[0m\n",
      "\u001b[34mepoch:0#011 step:0#011 loss_mse:0.08999937027692795#011 loss_ce:2.302553415298462#011\u001b[0m\n",
      "\u001b[34mepoch:0#011 step:100#011 loss_mse:0.0386897511780262#011 loss_ce:0.8386228084564209#011\u001b[0m\n",
      "\u001b[34mepoch:0#011 step:200#011 loss_mse:0.023377196863293648#011 loss_ce:0.4942053556442261#011\u001b[0m\n",
      "\u001b[34mepoch:0#011 step:300#011 loss_mse:0.02136985957622528#011 loss_ce:0.4774511456489563#011\u001b[0m\n",
      "\u001b[34maccuracy=0.8921;\u001b[0m\n",
      "\u001b[34mepoch:1#011 step:0#011 loss_mse:0.030108798295259476#011 loss_ce:0.7086565494537354#011\u001b[0m\n",
      "\u001b[34mepoch:1#011 step:100#011 loss_mse:0.015260700136423111#011 loss_ce:0.4186550974845886#011\u001b[0m\n",
      "\u001b[34mepoch:1#011 step:200#011 loss_mse:0.013356373645365238#011 loss_ce:0.30512237548828125#011\u001b[0m\n",
      "\u001b[34mepoch:1#011 step:300#011 loss_mse:0.0033335317857563496#011 loss_ce:0.08733152598142624#011\u001b[0m\n",
      "\u001b[34maccuracy=0.9455;\u001b[0m\n",
      "\u001b[34mepoch:2#011 step:0#011 loss_mse:0.0074294088408350945#011 loss_ce:0.15830153226852417#011\u001b[0m\n",
      "\u001b[34mepoch:2#011 step:100#011 loss_mse:0.007262335158884525#011 loss_ce:0.167576402425766#011\u001b[0m\n",
      "\u001b[34mepoch:2#011 step:200#011 loss_mse:0.007959283888339996#011 loss_ce:0.1653747707605362#011\u001b[0m\n",
      "\u001b[34mepoch:2#011 step:300#011 loss_mse:0.006323074456304312#011 loss_ce:0.15617236495018005#011\u001b[0m\n",
      "\u001b[34maccuracy=0.946;\u001b[0m\n",
      "\u001b[34mepoch:3#011 step:0#011 loss_mse:0.002855926752090454#011 loss_ce:0.07561646401882172#011\u001b[0m\n",
      "\u001b[34mepoch:3#011 step:100#011 loss_mse:0.0060713025741279125#011 loss_ce:0.150596022605896#011\u001b[0m\n",
      "\u001b[34mepoch:3#011 step:200#011 loss_mse:0.004517801105976105#011 loss_ce:0.09798114746809006#011\u001b[0m\n",
      "\u001b[34mepoch:3#011 step:300#011 loss_mse:0.006509545259177685#011 loss_ce:0.1373979151248932#011\u001b[0m\n",
      "\u001b[34maccuracy=0.9579;\u001b[0m\n",
      "\u001b[34mepoch:4#011 step:0#011 loss_mse:0.0029984312132000923#011 loss_ce:0.075604647397995#011\u001b[0m\n",
      "\u001b[34mepoch:4#011 step:100#011 loss_mse:0.005192999262362719#011 loss_ce:0.1130862906575203#011\u001b[0m\n",
      "\u001b[34mepoch:4#011 step:200#011 loss_mse:0.010858474299311638#011 loss_ce:0.23989322781562805#011\u001b[0m\n",
      "\u001b[34mepoch:4#011 step:300#011 loss_mse:0.006999433506280184#011 loss_ce:0.14500710368156433#011\u001b[0m\n",
      "\u001b[34maccuracy=0.957;\u001b[0m\n",
      "\u001b[34mWARNING:tensorflow:From /usr/local/lib/python3.6/dist-packages/tensorflow_core/python/ops/resource_variable_ops.py:1781: calling BaseResourceVariable.__init__ (from tensorflow.python.ops.resource_variable_ops) with constraint is deprecated and will be removed in a future version.\u001b[0m\n",
      "\u001b[34mInstructions for updating:\u001b[0m\n",
      "\u001b[34mIf using Keras pass *_constraint arguments to layers.\u001b[0m\n",
      "\u001b[34m2020-03-12 12:00:28,060 sagemaker-containers INFO     Reporting training SUCCESS\u001b[0m\n",
      "\n",
      "2020-03-12 12:00:37 Uploading - Uploading generated training model\n",
      "2020-03-12 12:00:37 Completed - Training job completed\n",
      "Training seconds: 226\n",
      "Billable seconds: 226\n"
     ]
    }
   ],
   "source": [
    "tf_estimator_isolated.fit(inputs=data_channels)"
   ]
  },
  {
   "cell_type": "code",
   "execution_count": 10,
   "metadata": {},
   "outputs": [
    {
     "name": "stdout",
     "output_type": "stream",
     "text": [
      "--------------------------------------------------------------!"
     ]
    }
   ],
   "source": [
    "tf_predictor_isolated = tf_estimator_isolated.deploy(initial_instance_count=1,instance_type='ml.m5.xlarge')"
   ]
  },
  {
   "cell_type": "code",
   "execution_count": 11,
   "metadata": {},
   "outputs": [
    {
     "name": "stdout",
     "output_type": "stream",
     "text": [
      "predictions: \t[7, 2, 1, 0, 4, 1, 4, 9, 6, 9]\n",
      "target values: \t[7, 2, 1, 0, 4, 1, 4, 9, 5, 9]\n"
     ]
    }
   ],
   "source": [
    "import numpy as np\n",
    "results = tf_predictor_isolated.predict(test_set[0][:10]/255)['predictions']\n",
    "\n",
    "flat_list = [np.argmax(sublist) for sublist in results]\n",
    "print('predictions: \\t{}'.format(flat_list))\n",
    "print('target values: \\t{}'.format(list(test_set[1][:10])))"
   ]
  },
  {
   "cell_type": "code",
   "execution_count": 29,
   "metadata": {},
   "outputs": [],
   "source": [
    "import boto3\n",
    "import pandas as pd\n",
    "import io\n",
    "import numpy as np\n",
    "\n",
    "# 对要预测数据进行归一化\n",
    "test_data = test_set[0] / 255\n",
    "# 将前十个样本保存成CSV文件\n",
    "np.savetxt('test_data.csv', test_data[:10], delimiter=',')\n",
    "# 读取文件为字符串，用于下一步call endpoint的payload\n",
    "with open('test_data.csv') as f:\n",
    "    s = f.read() + '\\n'\n",
    "\n",
    "# df = pd.read_csv('test_data.csv')\n",
    "# test_file = io.StringIO\n",
    "# df.to_csv(test_file, header=None, index=None)\n",
    "# test_file.getvalue()"
   ]
  },
  {
   "cell_type": "markdown",
   "metadata": {},
   "source": [
    "部署好的endpoint并不是一个public的url，实际上在call这个endpoint的时，是需要验证account和Signature Version 4签名的\n",
    "\n",
    "因此需要使用sagemaker-runtime client的invoke_endpoint方法去call\n",
    "\n",
    "https://docs.aws.amazon.com/sagemaker/latest/APIReference/API_runtime_InvokeEndpoint.html"
   ]
  },
  {
   "cell_type": "code",
   "execution_count": 35,
   "metadata": {},
   "outputs": [],
   "source": [
    "import boto3\n",
    "\n",
    "client = boto3.client('sagemaker-runtime')\n",
    "\n",
    "custom_attributes = \"c000b4f9-df62-4c85-a0bf-7c525f9104a4\"  # 自定义属性，这个header会被inference service获取，可以用作request id让inference service可以track\n",
    "endpoint_name = \"tf-scriptmode-mnist-2020-03-12-11-54-50-134\"  # 刚刚部署的endpoint名字\n",
    "content_type = \"text/csv\"\n",
    "accept = \"accept\"\n",
    "payload = s"
   ]
  },
  {
   "cell_type": "code",
   "execution_count": 41,
   "metadata": {},
   "outputs": [
    {
     "name": "stdout",
     "output_type": "stream",
     "text": [
      "{\n",
      "    \"predictions\": [[3.06348829e-06, 6.36350669e-05, 0.00150508748, 0.000679985213, 2.40019722e-06, 1.68202241e-05, 6.05644571e-12, 0.996592581, 5.41007612e-05, 0.00108226552], [1.59848441e-05, 0.00800300948, 0.990329623, 0.000416701747, 0.000241883943, 3.17879931e-05, 0.000414844893, 0.000435497379, 0.000110517278, 1.99765765e-07], [8.80790139e-06, 0.997926831, 0.000194137319, 5.99990358e-07, 0.0015575781, 1.83116936e-05, 2.34264226e-05, 8.26845717e-05, 0.000156924201, 3.07079354e-05], [0.999022126, 2.90456364e-06, 0.000148166917, 5.94032554e-06, 0.000134057467, 8.27223703e-05, 0.000407536776, 3.67892353e-05, 4.9199356e-05, 0.000110585868], [1.68272691e-05, 4.84657976e-05, 0.000124602127, 5.34703759e-07, 0.995527923, 9.20571401e-05, 8.1529206e-06, 2.7189104e-05, 5.60382396e-05, 0.00409818767], [2.58936296e-07, 0.999658108, 1.25970737e-05, 2.54550496e-08, 0.000289194111, 5.11117548e-07, 1.70575319e-07, 2.22652598e-05, 8.17347518e-06, 8.6620048e-06], [1.80701209e-05, 0.000388441433, 0.000155708767, 2.81625648e-06, 0.994052231, 0.000367470289, 0.000224057745, 7.57733324e-06, 0.000708571519, 0.00407504803], [6.47423849e-06, 3.93004848e-05, 2.25490312e-05, 0.000145413112, 0.00989843719, 0.000264447124, 5.28765121e-09, 0.000990798231, 0.00018666395, 0.988445878], [0.00469958782, 0.000125951308, 0.000805742049, 4.74141088e-05, 0.0339420922, 0.0169814453, 0.933010638, 1.94553536e-07, 0.0102680642, 0.000118885633], [2.3605503e-07, 8.34879211e-06, 1.69920395e-06, 9.87648127e-06, 0.00129233696, 5.54699272e-06, 1.20277295e-11, 0.000110173329, 5.8142432e-05, 0.99851352]\n",
      "    ]\n",
      "}\n"
     ]
    }
   ],
   "source": [
    "response = client.invoke_endpoint(\n",
    "    EndpointName=endpoint_name, \n",
    "    CustomAttributes=custom_attributes, \n",
    "    ContentType=content_type,\n",
    "    Accept=accept,\n",
    "    Body=payload\n",
    "    )\n",
    "\n",
    "print(response['Body'].read().decode('ascii'))"
   ]
  },
  {
   "cell_type": "code",
   "execution_count": 44,
   "metadata": {},
   "outputs": [],
   "source": [
    "tf_predictor_isolated.delete_endpoint()"
   ]
  },
  {
   "cell_type": "code",
   "execution_count": null,
   "metadata": {},
   "outputs": [],
   "source": []
  }
 ],
 "metadata": {
  "kernelspec": {
   "display_name": "conda_tensorflow_p36",
   "language": "python",
   "name": "conda_tensorflow_p36"
  },
  "language_info": {
   "codemirror_mode": {
    "name": "ipython",
    "version": 3
   },
   "file_extension": ".py",
   "mimetype": "text/x-python",
   "name": "python",
   "nbconvert_exporter": "python",
   "pygments_lexer": "ipython3",
   "version": "3.6.6"
  }
 },
 "nbformat": 4,
 "nbformat_minor": 4
}
